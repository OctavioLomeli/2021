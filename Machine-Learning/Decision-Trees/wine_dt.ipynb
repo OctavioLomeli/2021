{
 "cells": [
  {
   "cell_type": "markdown",
   "metadata": {},
   "source": [
    "### Imports"
   ]
  },
  {
   "cell_type": "code",
   "execution_count": 1,
   "metadata": {},
   "outputs": [],
   "source": [
    "import numpy as np\n",
    "import pandas as pd # to hold our data\n",
    "from sklearn.tree import DecisionTreeClassifier # the algorithm used\n",
    "from sklearn.model_selection import train_test_split # makes it easier to split our data into training and testing\n",
    "from sklearn.metrics import accuracy_score # tests the accuracy of our predictions"
   ]
  },
  {
   "cell_type": "markdown",
   "metadata": {},
   "source": [
    "### Organising Data"
   ]
  },
  {
   "cell_type": "code",
   "execution_count": 2,
   "metadata": {},
   "outputs": [],
   "source": [
    "df = pd.read_csv('Data-Files/wine.csv') # reading in csv file\n",
    "\n",
    "# splitting data into features and targets\n",
    "y = df['quality']\n",
    "x = df[[column for column in df.columns if column != 'quality']]\n",
    "\n",
    "# splitting data into training and testing\n",
    "x_train, x_test, y_train, y_test = train_test_split(x, y, test_size=.2)"
   ]
  },
  {
   "cell_type": "markdown",
   "metadata": {},
   "source": [
    "### Training & Prediction"
   ]
  },
  {
   "cell_type": "code",
   "execution_count": 3,
   "metadata": {},
   "outputs": [],
   "source": [
    "# training our algorithm\n",
    "model = DecisionTreeClassifier()\n",
    "model.fit(x_test, y_test)\n",
    "\n",
    "# making a prediction and scoring it\n",
    "predictions = model.predict(x_test)\n",
    "score = accuracy_score(y_test, predictions)"
   ]
  },
  {
   "cell_type": "markdown",
   "metadata": {},
   "source": [
    "### Scoring"
   ]
  },
  {
   "cell_type": "code",
   "execution_count": 4,
   "metadata": {},
   "outputs": [
    {
     "name": "stdout",
     "output_type": "stream",
     "text": [
      "Predictions\n",
      "[5 6 7 6 6 5 5 7 5 5 7 5 4 5 5 5 6 5 5 5 7 5 5 6 5 6 5 7 6 6 5 6 6 5 6 6 5\n",
      " 7 5 7 5 7 5 6 6 5 5 5 6 6 6 6 6 8 5 5 6 7 5 5 6 7 5 5 6 5 7 6 7 5 5 7 6 7\n",
      " 7 5 6 6 6 6 5 6 5 5 5 6 6 5 5 5 6 6 5 6 5 7 6 6 6 5 6 5 5 6 5 7 6 5 6 6 6\n",
      " 6 3 8 5 8 5 6 6 5 7 6 5 6 6 5 5 5 7 6 6 7 6 5 6 5 7 5 6 5 5 6 5 6 5 7 5 6\n",
      " 5 6 5 7 5 6 6 5 7 4 6 6 5 6 6 6 5 6 6 5 6 5 6 6 6 5 5 6 5 5 5 5 6 6 5 6 5\n",
      " 6 6 5 5 6 5 6 7 7 6 5 4 7 5 6 6 5 5 5 5 6 4 7 5 6 5 6 6 5 6 6 6 6 5 6 3 5\n",
      " 6 6 6 5 5 5 4 6 5 5 6 6 6 6 7 5 5 6 6 5 5 6 5 5 5 5 6 6 5 5 6 5 6 5 6 6 6\n",
      " 7 6 5 8 6 6 6 4 5 5 7 7 6 5 6 7 5 6 5 5 5 5 7 6 6 4 6 6 6 7 5 6 5 5 6 5 5\n",
      " 5 5 5 7 6 6 6 5 5 6 5 5 8 5 5 5 5 6 6 5 7 6 4 5]\n",
      "\n",
      "Actual Values\n",
      "[5 6 7 6 6 5 5 7 5 5 7 5 4 5 5 5 6 5 5 5 7 5 5 6 5 6 5 7 6 6 5 6 6 5 6 6 5\n",
      " 7 5 7 5 7 5 6 6 5 5 5 6 6 6 6 6 8 5 5 6 7 5 5 6 7 5 5 6 5 7 6 7 5 5 7 6 7\n",
      " 7 5 6 6 6 6 5 6 5 5 5 6 6 5 5 5 6 6 5 6 5 7 6 6 6 5 6 5 5 6 5 7 6 5 6 6 6\n",
      " 6 3 8 5 8 5 6 6 5 7 6 5 6 6 5 5 5 7 6 6 7 6 5 6 5 7 5 6 5 5 6 5 6 5 7 5 6\n",
      " 5 6 5 7 5 6 6 5 7 4 6 6 5 6 6 6 5 6 6 5 6 5 6 6 6 5 5 6 5 5 5 5 6 6 5 6 5\n",
      " 6 6 5 5 6 5 6 7 7 6 5 4 7 5 6 6 5 5 5 5 6 4 7 5 6 5 6 6 5 6 6 6 6 5 6 3 5\n",
      " 6 6 6 5 5 5 4 6 5 5 6 6 6 6 7 5 5 6 6 5 5 6 5 5 5 5 6 6 5 5 6 5 6 5 6 6 6\n",
      " 7 6 5 8 6 6 6 4 5 5 7 7 6 5 6 7 5 6 5 5 5 5 7 6 6 4 6 6 6 7 5 6 5 5 6 5 5\n",
      " 5 5 5 7 6 6 6 5 5 6 5 5 8 5 5 5 5 6 6 5 7 6 4 5]\n",
      "Score: 1.0\n"
     ]
    }
   ],
   "source": [
    "print('Predictions')\n",
    "print(predictions)\n",
    "print('\\nActual Values')\n",
    "print(np.array(y_test))\n",
    "print(f\"Score: {score}\")"
   ]
  }
 ],
 "metadata": {
  "kernelspec": {
   "display_name": "Python 3",
   "language": "python",
   "name": "python3"
  },
  "language_info": {
   "codemirror_mode": {
    "name": "ipython",
    "version": 3
   },
   "file_extension": ".py",
   "mimetype": "text/x-python",
   "name": "python",
   "nbconvert_exporter": "python",
   "pygments_lexer": "ipython3",
   "version": "3.8.3"
  }
 },
 "nbformat": 4,
 "nbformat_minor": 4
}
