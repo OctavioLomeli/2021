{
 "cells": [
  {
   "cell_type": "markdown",
   "metadata": {},
   "source": [
    "### Imports"
   ]
  },
  {
   "cell_type": "code",
   "execution_count": 1,
   "metadata": {},
   "outputs": [],
   "source": [
    "import numpy as np\n",
    "import pandas as pd # to hold our data\n",
    "from sklearn.tree import plot_tree\n",
    "from sklearn.tree import DecisionTreeClassifier # the algorithm used\n",
    "from sklearn.model_selection import train_test_split # makes it easier to split our data into training and testing\n",
    "from sklearn.metrics import accuracy_score # tests the accuracy of our predictions"
   ]
  },
  {
   "cell_type": "markdown",
   "metadata": {},
   "source": [
    "### Organising Data"
   ]
  },
  {
   "cell_type": "code",
   "execution_count": 2,
   "metadata": {},
   "outputs": [],
   "source": [
    "df = pd.read_csv('Data-Files/wine.csv') # reading in csv file\n",
    "\n",
    "# splitting data into features and targets\n",
    "y = df['quality']\n",
    "x = df[[column for column in df.columns if column != 'quality']]\n",
    "\n",
    "# splitting data into training and testing\n",
    "x_train, x_test, y_train, y_test = train_test_split(x, y, test_size=.2)"
   ]
  },
  {
   "cell_type": "markdown",
   "metadata": {},
   "source": [
    "### Training & Prediction"
   ]
  },
  {
   "cell_type": "code",
   "execution_count": 3,
   "metadata": {},
   "outputs": [],
   "source": [
    "# training our algorithm\n",
    "model = DecisionTreeClassifier()\n",
    "model.fit(x_test, y_test)\n",
    "\n",
    "# making a prediction and scoring it\n",
    "predictions = model.predict(x_test)\n",
    "score = accuracy_score(y_test, predictions)"
   ]
  },
  {
   "cell_type": "markdown",
   "metadata": {},
   "source": [
    "### Scoring"
   ]
  },
  {
   "cell_type": "code",
   "execution_count": 4,
   "metadata": {},
   "outputs": [
    {
     "name": "stdout",
     "output_type": "stream",
     "text": [
      "Predictions\n",
      "[6 5 6 5 5 7 7 6 6 8 6 8 5 5 6 6 5 5 5 5 6 6 5 3 5 5 7 6 5 5 4 5 6 6 5 6 5\n",
      " 6 5 6 5 6 5 6 6 5 5 5 6 6 6 6 6 5 5 5 5 6 8 6 4 5 6 6 6 6 5 6 7 5 5 6 5 5\n",
      " 5 5 6 6 6 5 5 5 7 7 7 7 8 7 5 4 5 5 6 5 6 7 5 6 7 5 6 8 5 6 6 5 6 6 7 6 5\n",
      " 4 5 6 6 5 7 6 5 5 7 6 5 6 6 7 5 6 5 5 5 6 6 8 7 7 5 5 5 7 5 5 6 6 5 5 6 5\n",
      " 6 6 6 5 6 6 5 5 6 7 6 5 7 6 6 6 5 5 5 6 6 6 5 6 6 5 5 6 8 7 5 5 5 5 6 5 7\n",
      " 4 5 5 6 6 5 5 6 5 5 6 6 5 5 5 7 5 4 7 4 5 6 8 6 5 6 7 6 6 7 5 6 8 5 7 5 7\n",
      " 6 5 5 5 6 5 5 6 5 6 5 5 8 3 6 6 7 5 6 6 6 6 6 7 6 6 6 6 5 5 5 6 5 6 7 6 6\n",
      " 5 6 7 6 6 6 5 6 5 5 5 5 5 7 6 5 5 5 5 5 7 6 7 7 6 5 6 6 5 6 5 5 6 5 5 5 4\n",
      " 5 6 6 6 5 5 6 5 7 6 6 7 5 5 6 4 6 7 7 5 5 7 6 5]\n",
      "\n",
      "Actual Values\n",
      "[6 5 6 5 5 7 7 6 6 8 6 8 5 5 6 6 5 5 5 5 6 6 5 3 5 5 7 6 5 5 4 5 6 6 5 6 5\n",
      " 6 5 6 5 6 5 6 6 5 5 5 6 6 6 6 6 5 5 5 5 6 8 6 4 5 6 6 6 6 5 6 7 5 5 6 5 5\n",
      " 5 5 6 6 6 5 5 5 7 7 7 7 8 7 5 4 5 5 6 5 6 7 5 6 7 5 6 8 5 6 6 5 6 6 7 6 5\n",
      " 4 5 6 6 5 7 6 5 5 7 6 5 6 6 7 5 6 5 5 5 6 6 8 7 7 5 5 5 7 5 5 6 6 5 5 6 5\n",
      " 6 6 6 5 6 6 5 5 6 7 6 5 7 6 6 6 5 5 5 6 6 6 5 6 6 5 5 6 8 7 5 5 5 5 6 5 7\n",
      " 4 5 5 6 6 5 5 6 5 5 6 6 5 5 5 7 5 4 7 4 5 6 8 6 5 6 7 6 6 7 5 6 8 5 7 5 7\n",
      " 6 5 5 5 6 5 5 6 5 6 5 5 8 3 6 6 7 5 6 6 6 6 6 7 6 6 6 6 5 5 5 6 5 6 7 6 6\n",
      " 5 6 7 6 6 6 5 6 5 5 5 5 5 7 6 5 5 5 5 5 7 6 7 7 6 5 6 6 5 6 5 5 6 5 5 5 4\n",
      " 5 6 6 6 5 5 6 5 7 6 6 7 5 5 6 4 6 7 7 5 5 7 6 5]\n",
      "Score: 1.0\n"
     ]
    }
   ],
   "source": [
    "print('Predictions')\n",
    "print(predictions)\n",
    "print('\\nActual Values')\n",
    "print(np.array(y_test))\n",
    "print(f\"Score: {score}\")"
   ]
  },
  {
   "cell_type": "markdown",
   "metadata": {},
   "source": [
    "### Tree"
   ]
  },
  {
   "cell_type": "code",
   "execution_count": 5,
   "metadata": {},
   "outputs": [
    {
     "data": {
      "text/plain": [
       "[Text(156.9375, 208.38, 'X[10] <= 10.05\\ngini = 0.656\\nsamples = 320\\nvalue = [2, 9, 135, 123, 41, 10]'),\n",
       " Text(81.08437500000001, 190.26, 'X[0] <= 10.05\\ngini = 0.468\\nsamples = 139\\nvalue = [0, 4, 95, 35, 3, 2]'),\n",
       " Text(48.825, 172.14, 'X[3] <= 2.05\\ngini = 0.397\\nsamples = 122\\nvalue = [0, 3, 91, 26, 1, 1]'),\n",
       " Text(25.284375, 154.01999999999998, 'X[1] <= 0.31\\ngini = 0.519\\nsamples = 55\\nvalue = [0, 2, 33, 19, 0, 1]'),\n",
       " Text(21.796875, 135.89999999999998, 'gini = 0.0\\nsamples = 3\\nvalue = [0, 0, 0, 3, 0, 0]'),\n",
       " Text(28.771875, 135.89999999999998, 'X[5] <= 16.5\\ngini = 0.501\\nsamples = 52\\nvalue = [0, 2, 33, 16, 0, 1]'),\n",
       " Text(13.950000000000001, 117.77999999999999, 'X[4] <= 0.092\\ngini = 0.382\\nsamples = 26\\nvalue = [0, 1, 20, 4, 0, 1]'),\n",
       " Text(6.9750000000000005, 99.66, 'X[5] <= 3.5\\ngini = 0.259\\nsamples = 21\\nvalue = [0, 1, 18, 1, 0, 1]'),\n",
       " Text(3.4875000000000003, 81.53999999999999, 'gini = 0.0\\nsamples = 1\\nvalue = [0, 0, 0, 0, 0, 1]'),\n",
       " Text(10.4625, 81.53999999999999, 'X[1] <= 0.92\\ngini = 0.185\\nsamples = 20\\nvalue = [0, 1, 18, 1, 0, 0]'),\n",
       " Text(6.9750000000000005, 63.41999999999999, 'X[10] <= 9.75\\ngini = 0.1\\nsamples = 19\\nvalue = [0, 0, 18, 1, 0, 0]'),\n",
       " Text(3.4875000000000003, 45.29999999999998, 'gini = 0.0\\nsamples = 16\\nvalue = [0, 0, 16, 0, 0, 0]'),\n",
       " Text(10.4625, 45.29999999999998, 'X[7] <= 0.995\\ngini = 0.444\\nsamples = 3\\nvalue = [0, 0, 2, 1, 0, 0]'),\n",
       " Text(6.9750000000000005, 27.17999999999998, 'gini = 0.0\\nsamples = 2\\nvalue = [0, 0, 2, 0, 0, 0]'),\n",
       " Text(13.950000000000001, 27.17999999999998, 'gini = 0.0\\nsamples = 1\\nvalue = [0, 0, 0, 1, 0, 0]'),\n",
       " Text(13.950000000000001, 63.41999999999999, 'gini = 0.0\\nsamples = 1\\nvalue = [0, 1, 0, 0, 0, 0]'),\n",
       " Text(20.925, 99.66, 'X[5] <= 7.5\\ngini = 0.48\\nsamples = 5\\nvalue = [0, 0, 2, 3, 0, 0]'),\n",
       " Text(17.4375, 81.53999999999999, 'gini = 0.0\\nsamples = 3\\nvalue = [0, 0, 0, 3, 0, 0]'),\n",
       " Text(24.4125, 81.53999999999999, 'gini = 0.0\\nsamples = 2\\nvalue = [0, 0, 2, 0, 0, 0]'),\n",
       " Text(43.59375, 117.77999999999999, 'X[5] <= 29.0\\ngini = 0.536\\nsamples = 26\\nvalue = [0, 1, 13, 12, 0, 0]'),\n",
       " Text(40.10625, 99.66, 'X[2] <= 0.375\\ngini = 0.499\\nsamples = 19\\nvalue = [0, 1, 6, 12, 0, 0]'),\n",
       " Text(31.387500000000003, 81.53999999999999, 'X[9] <= 0.485\\ngini = 0.357\\nsamples = 14\\nvalue = [0, 1, 2, 11, 0, 0]'),\n",
       " Text(24.4125, 63.41999999999999, 'X[6] <= 72.0\\ngini = 0.5\\nsamples = 2\\nvalue = [0, 1, 1, 0, 0, 0]'),\n",
       " Text(20.925, 45.29999999999998, 'gini = 0.0\\nsamples = 1\\nvalue = [0, 1, 0, 0, 0, 0]'),\n",
       " Text(27.900000000000002, 45.29999999999998, 'gini = 0.0\\nsamples = 1\\nvalue = [0, 0, 1, 0, 0, 0]'),\n",
       " Text(38.362500000000004, 63.41999999999999, 'X[0] <= 7.85\\ngini = 0.153\\nsamples = 12\\nvalue = [0, 0, 1, 11, 0, 0]'),\n",
       " Text(34.875, 45.29999999999998, 'gini = 0.0\\nsamples = 11\\nvalue = [0, 0, 0, 11, 0, 0]'),\n",
       " Text(41.85, 45.29999999999998, 'gini = 0.0\\nsamples = 1\\nvalue = [0, 0, 1, 0, 0, 0]'),\n",
       " Text(48.825, 81.53999999999999, 'X[4] <= 0.342\\ngini = 0.32\\nsamples = 5\\nvalue = [0, 0, 4, 1, 0, 0]'),\n",
       " Text(45.337500000000006, 63.41999999999999, 'gini = 0.0\\nsamples = 4\\nvalue = [0, 0, 4, 0, 0, 0]'),\n",
       " Text(52.31250000000001, 63.41999999999999, 'gini = 0.0\\nsamples = 1\\nvalue = [0, 0, 0, 1, 0, 0]'),\n",
       " Text(47.081250000000004, 99.66, 'gini = 0.0\\nsamples = 7\\nvalue = [0, 0, 7, 0, 0, 0]'),\n",
       " Text(72.36562500000001, 154.01999999999998, 'X[7] <= 0.996\\ngini = 0.239\\nsamples = 67\\nvalue = [0, 1, 58, 7, 1, 0]'),\n",
       " Text(62.775000000000006, 135.89999999999998, 'X[7] <= 0.996\\ngini = 0.5\\nsamples = 6\\nvalue = [0, 0, 3, 3, 0, 0]'),\n",
       " Text(59.2875, 117.77999999999999, 'gini = 0.0\\nsamples = 3\\nvalue = [0, 0, 3, 0, 0, 0]'),\n",
       " Text(66.2625, 117.77999999999999, 'gini = 0.0\\nsamples = 3\\nvalue = [0, 0, 0, 3, 0, 0]'),\n",
       " Text(81.95625000000001, 135.89999999999998, 'X[9] <= 0.855\\ngini = 0.182\\nsamples = 61\\nvalue = [0, 1, 55, 4, 1, 0]'),\n",
       " Text(73.23750000000001, 117.77999999999999, 'X[3] <= 4.05\\ngini = 0.159\\nsamples = 59\\nvalue = [0, 1, 54, 3, 1, 0]'),\n",
       " Text(66.2625, 99.66, 'X[5] <= 10.5\\ngini = 0.111\\nsamples = 52\\nvalue = [0, 1, 49, 1, 1, 0]'),\n",
       " Text(62.775000000000006, 81.53999999999999, 'X[6] <= 40.5\\ngini = 0.367\\nsamples = 14\\nvalue = [0, 1, 11, 1, 1, 0]'),\n",
       " Text(59.2875, 63.41999999999999, 'X[1] <= 0.907\\ngini = 0.272\\nsamples = 13\\nvalue = [0, 1, 11, 1, 0, 0]'),\n",
       " Text(55.800000000000004, 45.29999999999998, 'X[0] <= 8.65\\ngini = 0.153\\nsamples = 12\\nvalue = [0, 0, 11, 1, 0, 0]'),\n",
       " Text(52.31250000000001, 27.17999999999998, 'gini = 0.0\\nsamples = 9\\nvalue = [0, 0, 9, 0, 0, 0]'),\n",
       " Text(59.2875, 27.17999999999998, 'X[7] <= 0.998\\ngini = 0.444\\nsamples = 3\\nvalue = [0, 0, 2, 1, 0, 0]'),\n",
       " Text(55.800000000000004, 9.059999999999974, 'gini = 0.0\\nsamples = 1\\nvalue = [0, 0, 0, 1, 0, 0]'),\n",
       " Text(62.775000000000006, 9.059999999999974, 'gini = 0.0\\nsamples = 2\\nvalue = [0, 0, 2, 0, 0, 0]'),\n",
       " Text(62.775000000000006, 45.29999999999998, 'gini = 0.0\\nsamples = 1\\nvalue = [0, 1, 0, 0, 0, 0]'),\n",
       " Text(66.2625, 63.41999999999999, 'gini = 0.0\\nsamples = 1\\nvalue = [0, 0, 0, 0, 1, 0]'),\n",
       " Text(69.75, 81.53999999999999, 'gini = 0.0\\nsamples = 38\\nvalue = [0, 0, 38, 0, 0, 0]'),\n",
       " Text(80.2125, 99.66, 'X[3] <= 5.6\\ngini = 0.408\\nsamples = 7\\nvalue = [0, 0, 5, 2, 0, 0]'),\n",
       " Text(76.72500000000001, 81.53999999999999, 'X[2] <= 0.25\\ngini = 0.444\\nsamples = 3\\nvalue = [0, 0, 1, 2, 0, 0]'),\n",
       " Text(73.23750000000001, 63.41999999999999, 'gini = 0.0\\nsamples = 2\\nvalue = [0, 0, 0, 2, 0, 0]'),\n",
       " Text(80.2125, 63.41999999999999, 'gini = 0.0\\nsamples = 1\\nvalue = [0, 0, 1, 0, 0, 0]'),\n",
       " Text(83.7, 81.53999999999999, 'gini = 0.0\\nsamples = 4\\nvalue = [0, 0, 4, 0, 0, 0]'),\n",
       " Text(90.67500000000001, 117.77999999999999, 'X[5] <= 26.0\\ngini = 0.5\\nsamples = 2\\nvalue = [0, 0, 1, 1, 0, 0]'),\n",
       " Text(87.1875, 99.66, 'gini = 0.0\\nsamples = 1\\nvalue = [0, 0, 0, 1, 0, 0]'),\n",
       " Text(94.16250000000001, 99.66, 'gini = 0.0\\nsamples = 1\\nvalue = [0, 0, 1, 0, 0, 0]'),\n",
       " Text(113.34375000000001, 172.14, 'X[10] <= 9.65\\ngini = 0.644\\nsamples = 17\\nvalue = [0, 1, 4, 9, 2, 1]'),\n",
       " Text(104.62500000000001, 154.01999999999998, 'X[4] <= 0.099\\ngini = 0.444\\nsamples = 6\\nvalue = [0, 0, 4, 2, 0, 0]'),\n",
       " Text(101.1375, 135.89999999999998, 'X[5] <= 18.5\\ngini = 0.444\\nsamples = 3\\nvalue = [0, 0, 1, 2, 0, 0]'),\n",
       " Text(97.65, 117.77999999999999, 'gini = 0.0\\nsamples = 2\\nvalue = [0, 0, 0, 2, 0, 0]'),\n",
       " Text(104.62500000000001, 117.77999999999999, 'gini = 0.0\\nsamples = 1\\nvalue = [0, 0, 1, 0, 0, 0]'),\n",
       " Text(108.11250000000001, 135.89999999999998, 'gini = 0.0\\nsamples = 3\\nvalue = [0, 0, 3, 0, 0, 0]'),\n",
       " Text(122.06250000000001, 154.01999999999998, 'X[8] <= 3.005\\ngini = 0.545\\nsamples = 11\\nvalue = [0, 1, 0, 7, 2, 1]'),\n",
       " Text(115.0875, 135.89999999999998, 'X[0] <= 12.3\\ngini = 0.5\\nsamples = 2\\nvalue = [0, 0, 0, 0, 1, 1]'),\n",
       " Text(111.60000000000001, 117.77999999999999, 'gini = 0.0\\nsamples = 1\\nvalue = [0, 0, 0, 0, 1, 0]'),\n",
       " Text(118.575, 117.77999999999999, 'gini = 0.0\\nsamples = 1\\nvalue = [0, 0, 0, 0, 0, 1]'),\n",
       " Text(129.03750000000002, 135.89999999999998, 'X[8] <= 3.33\\ngini = 0.37\\nsamples = 9\\nvalue = [0, 1, 0, 7, 1, 0]'),\n",
       " Text(125.55000000000001, 117.77999999999999, 'X[9] <= 1.17\\ngini = 0.219\\nsamples = 8\\nvalue = [0, 0, 0, 7, 1, 0]'),\n",
       " Text(122.06250000000001, 99.66, 'gini = 0.0\\nsamples = 7\\nvalue = [0, 0, 0, 7, 0, 0]'),\n",
       " Text(129.03750000000002, 99.66, 'gini = 0.0\\nsamples = 1\\nvalue = [0, 0, 0, 0, 1, 0]'),\n",
       " Text(132.525, 117.77999999999999, 'gini = 0.0\\nsamples = 1\\nvalue = [0, 1, 0, 0, 0, 0]'),\n",
       " Text(232.790625, 190.26, 'X[9] <= 0.625\\ngini = 0.668\\nsamples = 181\\nvalue = [2, 5, 40, 88, 38, 8]'),\n",
       " Text(180.9140625, 172.14, 'X[0] <= 8.05\\ngini = 0.613\\nsamples = 74\\nvalue = [2, 5, 28, 36, 3, 0]'),\n",
       " Text(154.321875, 154.01999999999998, 'X[6] <= 14.5\\ngini = 0.586\\nsamples = 50\\nvalue = [2, 4, 13, 29, 2, 0]'),\n",
       " Text(142.9875, 135.89999999999998, 'X[9] <= 0.555\\ngini = 0.719\\nsamples = 8\\nvalue = [2, 3, 2, 1, 0, 0]'),\n",
       " Text(139.5, 117.77999999999999, 'X[0] <= 7.3\\ngini = 0.64\\nsamples = 5\\nvalue = [2, 0, 2, 1, 0, 0]'),\n",
       " Text(136.01250000000002, 99.66, 'X[0] <= 6.45\\ngini = 0.444\\nsamples = 3\\nvalue = [0, 0, 2, 1, 0, 0]'),\n",
       " Text(132.525, 81.53999999999999, 'gini = 0.0\\nsamples = 1\\nvalue = [0, 0, 0, 1, 0, 0]'),\n",
       " Text(139.5, 81.53999999999999, 'gini = 0.0\\nsamples = 2\\nvalue = [0, 0, 2, 0, 0, 0]'),\n",
       " Text(142.9875, 99.66, 'gini = 0.0\\nsamples = 2\\nvalue = [2, 0, 0, 0, 0, 0]'),\n",
       " Text(146.47500000000002, 117.77999999999999, 'gini = 0.0\\nsamples = 3\\nvalue = [0, 3, 0, 0, 0, 0]'),\n",
       " Text(165.65625, 135.89999999999998, 'X[4] <= 0.076\\ngini = 0.484\\nsamples = 42\\nvalue = [0, 1, 11, 28, 2, 0]'),\n",
       " Text(153.45000000000002, 117.77999999999999, 'X[5] <= 12.5\\ngini = 0.59\\nsamples = 20\\nvalue = [0, 1, 9, 9, 1, 0]'),\n",
       " Text(149.9625, 99.66, 'gini = 0.0\\nsamples = 5\\nvalue = [0, 0, 0, 5, 0, 0]'),\n",
       " Text(156.9375, 99.66, 'X[1] <= 0.613\\ngini = 0.56\\nsamples = 15\\nvalue = [0, 1, 9, 4, 1, 0]'),\n",
       " Text(149.9625, 81.53999999999999, 'X[0] <= 5.4\\ngini = 0.219\\nsamples = 8\\nvalue = [0, 0, 7, 0, 1, 0]'),\n",
       " Text(146.47500000000002, 63.41999999999999, 'gini = 0.0\\nsamples = 1\\nvalue = [0, 0, 0, 0, 1, 0]'),\n",
       " Text(153.45000000000002, 63.41999999999999, 'gini = 0.0\\nsamples = 7\\nvalue = [0, 0, 7, 0, 0, 0]'),\n",
       " Text(163.91250000000002, 81.53999999999999, 'X[7] <= 0.994\\ngini = 0.571\\nsamples = 7\\nvalue = [0, 1, 2, 4, 0, 0]'),\n",
       " Text(160.425, 63.41999999999999, 'gini = 0.0\\nsamples = 2\\nvalue = [0, 0, 2, 0, 0, 0]'),\n",
       " Text(167.4, 63.41999999999999, 'X[3] <= 3.55\\ngini = 0.32\\nsamples = 5\\nvalue = [0, 1, 0, 4, 0, 0]'),\n",
       " Text(163.91250000000002, 45.29999999999998, 'gini = 0.0\\nsamples = 4\\nvalue = [0, 0, 0, 4, 0, 0]'),\n",
       " Text(170.88750000000002, 45.29999999999998, 'gini = 0.0\\nsamples = 1\\nvalue = [0, 1, 0, 0, 0, 0]'),\n",
       " Text(177.8625, 117.77999999999999, 'X[6] <= 70.0\\ngini = 0.244\\nsamples = 22\\nvalue = [0, 0, 2, 19, 1, 0]'),\n",
       " Text(174.375, 99.66, 'X[8] <= 3.495\\ngini = 0.095\\nsamples = 20\\nvalue = [0, 0, 0, 19, 1, 0]'),\n",
       " Text(170.88750000000002, 81.53999999999999, 'gini = 0.0\\nsamples = 17\\nvalue = [0, 0, 0, 17, 0, 0]'),\n",
       " Text(177.8625, 81.53999999999999, 'X[0] <= 6.6\\ngini = 0.444\\nsamples = 3\\nvalue = [0, 0, 0, 2, 1, 0]'),\n",
       " Text(174.375, 63.41999999999999, 'gini = 0.0\\nsamples = 2\\nvalue = [0, 0, 0, 2, 0, 0]'),\n",
       " Text(181.35000000000002, 63.41999999999999, 'gini = 0.0\\nsamples = 1\\nvalue = [0, 0, 0, 0, 1, 0]'),\n",
       " Text(181.35000000000002, 99.66, 'gini = 0.0\\nsamples = 2\\nvalue = [0, 0, 2, 0, 0, 0]'),\n",
       " Text(207.50625000000002, 154.01999999999998, 'X[4] <= 0.08\\ngini = 0.521\\nsamples = 24\\nvalue = [0, 1, 15, 7, 1, 0]'),\n",
       " Text(198.78750000000002, 135.89999999999998, 'X[4] <= 0.06\\ngini = 0.625\\nsamples = 12\\nvalue = [0, 1, 4, 6, 1, 0]'),\n",
       " Text(191.81250000000003, 117.77999999999999, 'X[3] <= 1.75\\ngini = 0.375\\nsamples = 4\\nvalue = [0, 0, 3, 0, 1, 0]'),\n",
       " Text(188.32500000000002, 99.66, 'gini = 0.0\\nsamples = 1\\nvalue = [0, 0, 0, 0, 1, 0]'),\n",
       " Text(195.3, 99.66, 'gini = 0.0\\nsamples = 3\\nvalue = [0, 0, 3, 0, 0, 0]'),\n",
       " Text(205.76250000000002, 117.77999999999999, 'X[1] <= 0.79\\ngini = 0.406\\nsamples = 8\\nvalue = [0, 1, 1, 6, 0, 0]'),\n",
       " Text(202.275, 99.66, 'X[3] <= 1.825\\ngini = 0.245\\nsamples = 7\\nvalue = [0, 0, 1, 6, 0, 0]'),\n",
       " Text(198.78750000000002, 81.53999999999999, 'gini = 0.0\\nsamples = 1\\nvalue = [0, 0, 1, 0, 0, 0]'),\n",
       " Text(205.76250000000002, 81.53999999999999, 'gini = 0.0\\nsamples = 6\\nvalue = [0, 0, 0, 6, 0, 0]'),\n",
       " Text(209.25000000000003, 99.66, 'gini = 0.0\\nsamples = 1\\nvalue = [0, 1, 0, 0, 0, 0]'),\n",
       " Text(216.22500000000002, 135.89999999999998, 'X[7] <= 0.996\\ngini = 0.153\\nsamples = 12\\nvalue = [0, 0, 11, 1, 0, 0]'),\n",
       " Text(212.7375, 117.77999999999999, 'gini = 0.0\\nsamples = 1\\nvalue = [0, 0, 0, 1, 0, 0]'),\n",
       " Text(219.7125, 117.77999999999999, 'gini = 0.0\\nsamples = 11\\nvalue = [0, 0, 11, 0, 0, 0]'),\n",
       " Text(284.6671875, 172.14, 'X[10] <= 11.65\\ngini = 0.639\\nsamples = 107\\nvalue = [0, 0, 12, 52, 35, 8]'),\n",
       " Text(260.690625, 154.01999999999998, 'X[1] <= 0.375\\ngini = 0.578\\nsamples = 80\\nvalue = [0, 0, 11, 47, 19, 3]'),\n",
       " Text(242.38125000000002, 135.89999999999998, 'X[8] <= 3.25\\ngini = 0.62\\nsamples = 35\\nvalue = [0, 0, 2, 16, 14, 3]'),\n",
       " Text(226.68750000000003, 117.77999999999999, 'X[9] <= 0.66\\ngini = 0.498\\nsamples = 15\\nvalue = [0, 0, 0, 2, 10, 3]'),\n",
       " Text(223.20000000000002, 99.66, 'gini = 0.0\\nsamples = 2\\nvalue = [0, 0, 0, 0, 0, 2]'),\n",
       " Text(230.175, 99.66, 'X[2] <= 0.31\\ngini = 0.379\\nsamples = 13\\nvalue = [0, 0, 0, 2, 10, 1]'),\n",
       " Text(223.20000000000002, 81.53999999999999, 'X[0] <= 7.55\\ngini = 0.5\\nsamples = 2\\nvalue = [0, 0, 0, 1, 0, 1]'),\n",
       " Text(219.7125, 63.41999999999999, 'gini = 0.0\\nsamples = 1\\nvalue = [0, 0, 0, 0, 0, 1]'),\n",
       " Text(226.68750000000003, 63.41999999999999, 'gini = 0.0\\nsamples = 1\\nvalue = [0, 0, 0, 1, 0, 0]'),\n",
       " Text(237.15, 81.53999999999999, 'X[5] <= 24.5\\ngini = 0.165\\nsamples = 11\\nvalue = [0, 0, 0, 1, 10, 0]'),\n",
       " Text(233.66250000000002, 63.41999999999999, 'gini = 0.0\\nsamples = 10\\nvalue = [0, 0, 0, 0, 10, 0]'),\n",
       " Text(240.63750000000002, 63.41999999999999, 'gini = 0.0\\nsamples = 1\\nvalue = [0, 0, 0, 1, 0, 0]'),\n",
       " Text(258.07500000000005, 117.77999999999999, 'X[7] <= 1.0\\ngini = 0.46\\nsamples = 20\\nvalue = [0, 0, 2, 14, 4, 0]'),\n",
       " Text(254.5875, 99.66, 'X[10] <= 11.55\\ngini = 0.37\\nsamples = 18\\nvalue = [0, 0, 2, 14, 2, 0]'),\n",
       " Text(251.10000000000002, 81.53999999999999, 'X[6] <= 91.0\\ngini = 0.304\\nsamples = 17\\nvalue = [0, 0, 2, 14, 1, 0]'),\n",
       " Text(247.6125, 63.41999999999999, 'X[10] <= 10.65\\ngini = 0.219\\nsamples = 16\\nvalue = [0, 0, 2, 14, 0, 0]'),\n",
       " Text(244.12500000000003, 45.29999999999998, 'X[7] <= 0.997\\ngini = 0.408\\nsamples = 7\\nvalue = [0, 0, 2, 5, 0, 0]'),\n",
       " Text(240.63750000000002, 27.17999999999998, 'gini = 0.0\\nsamples = 2\\nvalue = [0, 0, 2, 0, 0, 0]'),\n",
       " Text(247.6125, 27.17999999999998, 'gini = 0.0\\nsamples = 5\\nvalue = [0, 0, 0, 5, 0, 0]'),\n",
       " Text(251.10000000000002, 45.29999999999998, 'gini = 0.0\\nsamples = 9\\nvalue = [0, 0, 0, 9, 0, 0]'),\n",
       " Text(254.5875, 63.41999999999999, 'gini = 0.0\\nsamples = 1\\nvalue = [0, 0, 0, 0, 1, 0]'),\n",
       " Text(258.07500000000005, 81.53999999999999, 'gini = 0.0\\nsamples = 1\\nvalue = [0, 0, 0, 0, 1, 0]'),\n",
       " Text(261.5625, 99.66, 'gini = 0.0\\nsamples = 2\\nvalue = [0, 0, 0, 0, 2, 0]'),\n",
       " Text(279.0, 135.89999999999998, 'X[8] <= 3.555\\ngini = 0.473\\nsamples = 45\\nvalue = [0, 0, 9, 31, 5, 0]'),\n",
       " Text(272.02500000000003, 117.77999999999999, 'X[6] <= 109.0\\ngini = 0.394\\nsamples = 41\\nvalue = [0, 0, 7, 31, 3, 0]'),\n",
       " Text(268.5375, 99.66, 'X[8] <= 3.0\\ngini = 0.346\\nsamples = 39\\nvalue = [0, 0, 5, 31, 3, 0]'),\n",
       " Text(265.05, 81.53999999999999, 'gini = 0.0\\nsamples = 2\\nvalue = [0, 0, 2, 0, 0, 0]'),\n",
       " Text(272.02500000000003, 81.53999999999999, 'X[9] <= 0.85\\ngini = 0.285\\nsamples = 37\\nvalue = [0, 0, 3, 31, 3, 0]'),\n",
       " Text(265.05, 63.41999999999999, 'X[4] <= 0.106\\ngini = 0.133\\nsamples = 28\\nvalue = [0, 0, 2, 26, 0, 0]'),\n",
       " Text(261.5625, 45.29999999999998, 'X[4] <= 0.06\\ngini = 0.071\\nsamples = 27\\nvalue = [0, 0, 1, 26, 0, 0]'),\n",
       " Text(258.07500000000005, 27.17999999999998, 'X[3] <= 2.25\\ngini = 0.444\\nsamples = 3\\nvalue = [0, 0, 1, 2, 0, 0]'),\n",
       " Text(254.5875, 9.059999999999974, 'gini = 0.0\\nsamples = 2\\nvalue = [0, 0, 0, 2, 0, 0]'),\n",
       " Text(261.5625, 9.059999999999974, 'gini = 0.0\\nsamples = 1\\nvalue = [0, 0, 1, 0, 0, 0]'),\n",
       " Text(265.05, 27.17999999999998, 'gini = 0.0\\nsamples = 24\\nvalue = [0, 0, 0, 24, 0, 0]'),\n",
       " Text(268.5375, 45.29999999999998, 'gini = 0.0\\nsamples = 1\\nvalue = [0, 0, 1, 0, 0, 0]'),\n",
       " Text(279.0, 63.41999999999999, 'X[9] <= 0.925\\ngini = 0.568\\nsamples = 9\\nvalue = [0, 0, 1, 5, 3, 0]'),\n",
       " Text(275.51250000000005, 45.29999999999998, 'X[8] <= 3.275\\ngini = 0.56\\nsamples = 5\\nvalue = [0, 0, 1, 1, 3, 0]'),\n",
       " Text(272.02500000000003, 27.17999999999998, 'X[7] <= 0.998\\ngini = 0.5\\nsamples = 2\\nvalue = [0, 0, 1, 1, 0, 0]'),\n",
       " Text(268.5375, 9.059999999999974, 'gini = 0.0\\nsamples = 1\\nvalue = [0, 0, 0, 1, 0, 0]'),\n",
       " Text(275.51250000000005, 9.059999999999974, 'gini = 0.0\\nsamples = 1\\nvalue = [0, 0, 1, 0, 0, 0]'),\n",
       " Text(279.0, 27.17999999999998, 'gini = 0.0\\nsamples = 3\\nvalue = [0, 0, 0, 0, 3, 0]'),\n",
       " Text(282.4875, 45.29999999999998, 'gini = 0.0\\nsamples = 4\\nvalue = [0, 0, 0, 4, 0, 0]'),\n",
       " Text(275.51250000000005, 99.66, 'gini = 0.0\\nsamples = 2\\nvalue = [0, 0, 2, 0, 0, 0]'),\n",
       " Text(285.975, 117.77999999999999, 'X[7] <= 0.997\\ngini = 0.5\\nsamples = 4\\nvalue = [0, 0, 2, 0, 2, 0]'),\n",
       " Text(282.4875, 99.66, 'gini = 0.0\\nsamples = 2\\nvalue = [0, 0, 2, 0, 0, 0]'),\n",
       " Text(289.46250000000003, 99.66, 'gini = 0.0\\nsamples = 2\\nvalue = [0, 0, 0, 0, 2, 0]'),\n",
       " Text(308.64375, 154.01999999999998, 'X[9] <= 0.745\\ngini = 0.579\\nsamples = 27\\nvalue = [0, 0, 1, 5, 16, 5]'),\n",
       " Text(296.4375, 135.89999999999998, 'X[6] <= 13.5\\ngini = 0.667\\nsamples = 12\\nvalue = [0, 0, 0, 4, 4, 4]'),\n",
       " Text(292.95000000000005, 117.77999999999999, 'gini = 0.0\\nsamples = 3\\nvalue = [0, 0, 0, 0, 3, 0]'),\n",
       " Text(299.925, 117.77999999999999, 'X[10] <= 12.45\\ngini = 0.593\\nsamples = 9\\nvalue = [0, 0, 0, 4, 1, 4]'),\n",
       " Text(296.4375, 99.66, 'X[6] <= 19.5\\ngini = 0.5\\nsamples = 6\\nvalue = [0, 0, 0, 4, 1, 1]'),\n",
       " Text(292.95000000000005, 81.53999999999999, 'gini = 0.0\\nsamples = 1\\nvalue = [0, 0, 0, 0, 1, 0]'),\n",
       " Text(299.925, 81.53999999999999, 'X[9] <= 0.635\\ngini = 0.32\\nsamples = 5\\nvalue = [0, 0, 0, 4, 0, 1]'),\n",
       " Text(296.4375, 63.41999999999999, 'gini = 0.0\\nsamples = 1\\nvalue = [0, 0, 0, 0, 0, 1]'),\n",
       " Text(303.4125, 63.41999999999999, 'gini = 0.0\\nsamples = 4\\nvalue = [0, 0, 0, 4, 0, 0]'),\n",
       " Text(303.4125, 99.66, 'gini = 0.0\\nsamples = 3\\nvalue = [0, 0, 0, 0, 0, 3]'),\n",
       " Text(320.85, 135.89999999999998, 'X[1] <= 0.525\\ngini = 0.347\\nsamples = 15\\nvalue = [0, 0, 1, 1, 12, 1]'),\n",
       " Text(313.875, 117.77999999999999, 'X[8] <= 3.545\\ngini = 0.142\\nsamples = 13\\nvalue = [0, 0, 0, 1, 12, 0]'),\n",
       " Text(310.38750000000005, 99.66, 'gini = 0.0\\nsamples = 12\\nvalue = [0, 0, 0, 0, 12, 0]'),\n",
       " Text(317.3625, 99.66, 'gini = 0.0\\nsamples = 1\\nvalue = [0, 0, 0, 1, 0, 0]'),\n",
       " Text(327.82500000000005, 117.77999999999999, 'X[0] <= 9.55\\ngini = 0.5\\nsamples = 2\\nvalue = [0, 0, 1, 0, 0, 1]'),\n",
       " Text(324.33750000000003, 99.66, 'gini = 0.0\\nsamples = 1\\nvalue = [0, 0, 0, 0, 0, 1]'),\n",
       " Text(331.3125, 99.66, 'gini = 0.0\\nsamples = 1\\nvalue = [0, 0, 1, 0, 0, 0]')]"
      ]
     },
     "execution_count": 5,
     "metadata": {},
     "output_type": "execute_result"
    },
    {
     "data": {
      "image/png": "[encoded data removed]",
      "text/plain": [
       "<Figure size 432x288 with 1 Axes>"
      ]
     },
     "metadata": {
      "needs_background": "light"
     },
     "output_type": "display_data"
    }
   ],
   "source": [
    "plot_tree(model)"
   ]
  }
 ],
 "metadata": {
  "kernelspec": {
   "display_name": "Python 3",
   "language": "python",
   "name": "python3"
  },
  "language_info": {
   "codemirror_mode": {
    "name": "ipython",
    "version": 3
   },
   "file_extension": ".py",
   "mimetype": "text/x-python",
   "name": "python",
   "nbconvert_exporter": "python",
   "pygments_lexer": "ipython3",
   "version": "3.8.3"
  }
 },
 "nbformat": 4,
 "nbformat_minor": 4
}
