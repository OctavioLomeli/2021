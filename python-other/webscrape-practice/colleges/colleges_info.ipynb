{
 "cells": [
  {
   "cell_type": "markdown",
   "metadata": {},
   "source": [
    "### Imports"
   ]
  },
  {
   "cell_type": "code",
   "execution_count": 1,
   "metadata": {},
   "outputs": [],
   "source": [
    "import requests\n",
    "import pandas as pd\n",
    "from bs4 import BeautifulSoup as bs"
   ]
  },
  {
   "cell_type": "markdown",
   "metadata": {},
   "source": [
    "### Variables"
   ]
  },
  {
   "cell_type": "code",
   "execution_count": 2,
   "metadata": {},
   "outputs": [],
   "source": [
    "# Dictionary for data to be stored\n",
    "information = {'College': [], 'Location': [], 'Type': [], 'Avg cost after aid': [], 'Acceptance Rate': []}\n",
    "# User agent to have access to the site\n",
    "# agent = removed"
   ]
  },
  {
   "cell_type": "markdown",
   "metadata": {},
   "source": [
    "### Scraping"
   ]
  },
  {
   "cell_type": "code",
   "execution_count": 3,
   "metadata": {},
   "outputs": [],
   "source": [
    "# going through each url\n",
    "for i in range(14):\n",
    "    # passing in url of site to scrape\n",
    "    r = requests.get(f'https://www.niche.com/colleges/search/all-colleges/s/california/?type=communityCollege&type=private&type=public&page={i}').text\n",
    "    soup = bs(r, 'lxml')\n",
    "\n",
    "    # looping through each card containing individual college information\n",
    "    for index, card in enumerate(soup.find_all('li', class_='search-results__list__item')):\n",
    "    # adding to dictionary\n",
    "\n",
    "        # adding college name\n",
    "        information['College'].append(card.find('h2', class_='search-result__title').text)\n",
    "\n",
    "        # only get the info from the first 2 list items\n",
    "        for index, info in enumerate(card.find_all('li', class_='search-result-tagline__item')):\n",
    "            if index == 2:\n",
    "                break\n",
    "            elif index == 1:\n",
    "                information['Location'].append(info.text)\n",
    "            else: # index == 0\n",
    "                information['Type'].append(info.text)\n",
    "\n",
    "        # only get the info from the first 2 list items\n",
    "        for index, info in enumerate(card.find_all('span', class_='search-result-fact__value')):\n",
    "            if index == 2:\n",
    "                break\n",
    "            elif index == 1:\n",
    "                information['Avg cost after aid'].append(info.text)\n",
    "            else:\n",
    "                information['Acceptance Rate'].append(info.text)"
   ]
  },
  {
   "cell_type": "markdown",
   "metadata": {},
   "source": [
    "### Viewing information"
   ]
  },
  {
   "cell_type": "code",
   "execution_count": 4,
   "metadata": {},
   "outputs": [
    {
     "name": "stdout",
     "output_type": "stream",
     "text": [
      "250\n",
      "250\n",
      "250\n",
      "250\n",
      "250\n"
     ]
    }
   ],
   "source": [
    "for key in information.keys():\n",
    "    print(len(information[key]))"
   ]
  },
  {
   "cell_type": "markdown",
   "metadata": {},
   "source": [
    "### Loading information in Dataframe"
   ]
  },
  {
   "cell_type": "code",
   "execution_count": 5,
   "metadata": {},
   "outputs": [
    {
     "data": {
      "text/html": [
       "<div>\n",
       "<style scoped>\n",
       "    .dataframe tbody tr th:only-of-type {\n",
       "        vertical-align: middle;\n",
       "    }\n",
       "\n",
       "    .dataframe tbody tr th {\n",
       "        vertical-align: top;\n",
       "    }\n",
       "\n",
       "    .dataframe thead th {\n",
       "        text-align: right;\n",
       "    }\n",
       "</style>\n",
       "<table border=\"1\" class=\"dataframe\">\n",
       "  <thead>\n",
       "    <tr style=\"text-align: right;\">\n",
       "      <th></th>\n",
       "      <th>College</th>\n",
       "      <th>Location</th>\n",
       "      <th>Type</th>\n",
       "      <th>Avg cost after aid</th>\n",
       "      <th>Acceptance Rate</th>\n",
       "    </tr>\n",
       "  </thead>\n",
       "  <tbody>\n",
       "    <tr>\n",
       "      <th>0</th>\n",
       "      <td>Stanford University</td>\n",
       "      <td>Stanford, CA</td>\n",
       "      <td>4 Year</td>\n",
       "      <td>$17,271</td>\n",
       "      <td>4%</td>\n",
       "    </tr>\n",
       "    <tr>\n",
       "      <th>1</th>\n",
       "      <td>California Institute of Technology</td>\n",
       "      <td>Pasadena, CA</td>\n",
       "      <td>4 Year</td>\n",
       "      <td>$26,361</td>\n",
       "      <td>7%</td>\n",
       "    </tr>\n",
       "    <tr>\n",
       "      <th>2</th>\n",
       "      <td>University of Southern California</td>\n",
       "      <td>Los Angeles, CA</td>\n",
       "      <td>4 Year</td>\n",
       "      <td>$36,161</td>\n",
       "      <td>13%</td>\n",
       "    </tr>\n",
       "    <tr>\n",
       "      <th>3</th>\n",
       "      <td>Pomona College</td>\n",
       "      <td>Claremont, CA</td>\n",
       "      <td>4 Year</td>\n",
       "      <td>$16,988</td>\n",
       "      <td>8%</td>\n",
       "    </tr>\n",
       "    <tr>\n",
       "      <th>4</th>\n",
       "      <td>University of California - Los Angeles</td>\n",
       "      <td>Los Angeles, CA</td>\n",
       "      <td>4 Year</td>\n",
       "      <td>$15,002</td>\n",
       "      <td>14%</td>\n",
       "    </tr>\n",
       "  </tbody>\n",
       "</table>\n",
       "</div>"
      ],
      "text/plain": [
       "                                  College          Location     Type  \\\n",
       "0                     Stanford University     Stanford, CA   4 Year    \n",
       "1      California Institute of Technology     Pasadena, CA   4 Year    \n",
       "2       University of Southern California  Los Angeles, CA   4 Year    \n",
       "3                          Pomona College    Claremont, CA   4 Year    \n",
       "4  University of California - Los Angeles  Los Angeles, CA   4 Year    \n",
       "\n",
       "  Avg cost after aid Acceptance Rate  \n",
       "0            $17,271              4%  \n",
       "1            $26,361              7%  \n",
       "2            $36,161             13%  \n",
       "3            $16,988              8%  \n",
       "4            $15,002             14%  "
      ]
     },
     "execution_count": 5,
     "metadata": {},
     "output_type": "execute_result"
    }
   ],
   "source": [
    "df = pd.DataFrame(information)\n",
    "df.head()"
   ]
  },
  {
   "cell_type": "markdown",
   "metadata": {},
   "source": [
    "### Cleaning"
   ]
  },
  {
   "cell_type": "code",
   "execution_count": 6,
   "metadata": {},
   "outputs": [
    {
     "name": "stderr",
     "output_type": "stream",
     "text": [
      "C:\\Users\\Octavio\\anaconda3\\lib\\site-packages\\pandas\\core\\indexing.py:671: SettingWithCopyWarning: \n",
      "A value is trying to be set on a copy of a slice from a DataFrame\n",
      "\n",
      "See the caveats in the documentation: https://pandas.pydata.org/pandas-docs/stable/user_guide/indexing.html#returning-a-view-versus-a-copy\n",
      "  self._setitem_with_indexer(indexer, value)\n"
     ]
    }
   ],
   "source": [
    "# converting string columns with numbers into ints\n",
    "df['Acceptance Rate'] = pd.to_numeric(df['Acceptance Rate'].str.replace(\"%\", \"\"))\n",
    "df['Avg cost after aid'] = df['Avg cost after aid'].str.replace('$', \"\")\n",
    "df['Avg cost after aid'] = pd.to_numeric(df['Avg cost after aid'].str.replace(\",\", \"\", 2))\n",
    "# dropping duplicate rows\n",
    "df.drop_duplicates(keep='last', inplace=True)\n",
    "df.reset_index(inplace=True)\n",
    "# dropping added columns\n",
    "df.drop(['index'], axis=1, inplace=True)\n",
    "# changing rows with location of \"reviews\" to online\n",
    "filt = df['Location'].str.contains('reviews')\n",
    "for row in list(df[filt].index):\n",
    "    df['Location'].iloc[row] = 'Online'"
   ]
  },
  {
   "cell_type": "markdown",
   "metadata": {},
   "source": [
    "### Viewing dataframe"
   ]
  },
  {
   "cell_type": "code",
   "execution_count": 7,
   "metadata": {},
   "outputs": [
    {
     "data": {
      "text/html": [
       "<div>\n",
       "<style scoped>\n",
       "    .dataframe tbody tr th:only-of-type {\n",
       "        vertical-align: middle;\n",
       "    }\n",
       "\n",
       "    .dataframe tbody tr th {\n",
       "        vertical-align: top;\n",
       "    }\n",
       "\n",
       "    .dataframe thead th {\n",
       "        text-align: right;\n",
       "    }\n",
       "</style>\n",
       "<table border=\"1\" class=\"dataframe\">\n",
       "  <thead>\n",
       "    <tr style=\"text-align: right;\">\n",
       "      <th></th>\n",
       "      <th>College</th>\n",
       "      <th>Location</th>\n",
       "      <th>Type</th>\n",
       "      <th>Avg cost after aid</th>\n",
       "      <th>Acceptance Rate</th>\n",
       "    </tr>\n",
       "  </thead>\n",
       "  <tbody>\n",
       "    <tr>\n",
       "      <th>0</th>\n",
       "      <td>Stanford University</td>\n",
       "      <td>Stanford, CA</td>\n",
       "      <td>4 Year</td>\n",
       "      <td>17271</td>\n",
       "      <td>4</td>\n",
       "    </tr>\n",
       "    <tr>\n",
       "      <th>1</th>\n",
       "      <td>California Institute of Technology</td>\n",
       "      <td>Pasadena, CA</td>\n",
       "      <td>4 Year</td>\n",
       "      <td>26361</td>\n",
       "      <td>7</td>\n",
       "    </tr>\n",
       "    <tr>\n",
       "      <th>2</th>\n",
       "      <td>University of Southern California</td>\n",
       "      <td>Los Angeles, CA</td>\n",
       "      <td>4 Year</td>\n",
       "      <td>36161</td>\n",
       "      <td>13</td>\n",
       "    </tr>\n",
       "    <tr>\n",
       "      <th>3</th>\n",
       "      <td>Pomona College</td>\n",
       "      <td>Claremont, CA</td>\n",
       "      <td>4 Year</td>\n",
       "      <td>16988</td>\n",
       "      <td>8</td>\n",
       "    </tr>\n",
       "    <tr>\n",
       "      <th>4</th>\n",
       "      <td>University of California - Los Angeles</td>\n",
       "      <td>Los Angeles, CA</td>\n",
       "      <td>4 Year</td>\n",
       "      <td>15002</td>\n",
       "      <td>14</td>\n",
       "    </tr>\n",
       "  </tbody>\n",
       "</table>\n",
       "</div>"
      ],
      "text/plain": [
       "                                  College          Location     Type  \\\n",
       "0                     Stanford University     Stanford, CA   4 Year    \n",
       "1      California Institute of Technology     Pasadena, CA   4 Year    \n",
       "2       University of Southern California  Los Angeles, CA   4 Year    \n",
       "3                          Pomona College    Claremont, CA   4 Year    \n",
       "4  University of California - Los Angeles  Los Angeles, CA   4 Year    \n",
       "\n",
       "   Avg cost after aid  Acceptance Rate  \n",
       "0               17271                4  \n",
       "1               26361                7  \n",
       "2               36161               13  \n",
       "3               16988                8  \n",
       "4               15002               14  "
      ]
     },
     "execution_count": 7,
     "metadata": {},
     "output_type": "execute_result"
    }
   ],
   "source": [
    "df.head()"
   ]
  },
  {
   "cell_type": "code",
   "execution_count": 8,
   "metadata": {},
   "outputs": [
    {
     "name": "stdout",
     "output_type": "stream",
     "text": [
      "225\n"
     ]
    },
    {
     "data": {
      "text/html": [
       "<div>\n",
       "<style scoped>\n",
       "    .dataframe tbody tr th:only-of-type {\n",
       "        vertical-align: middle;\n",
       "    }\n",
       "\n",
       "    .dataframe tbody tr th {\n",
       "        vertical-align: top;\n",
       "    }\n",
       "\n",
       "    .dataframe thead th {\n",
       "        text-align: right;\n",
       "    }\n",
       "</style>\n",
       "<table border=\"1\" class=\"dataframe\">\n",
       "  <thead>\n",
       "    <tr style=\"text-align: right;\">\n",
       "      <th></th>\n",
       "      <th>College</th>\n",
       "      <th>Location</th>\n",
       "      <th>Type</th>\n",
       "      <th>Avg cost after aid</th>\n",
       "      <th>Acceptance Rate</th>\n",
       "    </tr>\n",
       "  </thead>\n",
       "  <tbody>\n",
       "    <tr>\n",
       "      <th>220</th>\n",
       "      <td>West Coast University - Orange County</td>\n",
       "      <td>Anaheim, CA</td>\n",
       "      <td>4 Year</td>\n",
       "      <td>40721</td>\n",
       "      <td>95</td>\n",
       "    </tr>\n",
       "    <tr>\n",
       "      <th>221</th>\n",
       "      <td>San Francisco Conservatory of Music</td>\n",
       "      <td>San Francisco, CA</td>\n",
       "      <td>4 Year</td>\n",
       "      <td>39799</td>\n",
       "      <td>45</td>\n",
       "    </tr>\n",
       "    <tr>\n",
       "      <th>222</th>\n",
       "      <td>West Coast University - Los Angeles</td>\n",
       "      <td>North Hollywood, CA</td>\n",
       "      <td>4 Year</td>\n",
       "      <td>42038</td>\n",
       "      <td>92</td>\n",
       "    </tr>\n",
       "    <tr>\n",
       "      <th>223</th>\n",
       "      <td>Los Angeles College of Music</td>\n",
       "      <td>Pasadena, CA</td>\n",
       "      <td>4 Year</td>\n",
       "      <td>31317</td>\n",
       "      <td>100</td>\n",
       "    </tr>\n",
       "    <tr>\n",
       "      <th>224</th>\n",
       "      <td>Homestead Schools</td>\n",
       "      <td>Torrance, CA</td>\n",
       "      <td>4 Year</td>\n",
       "      <td>12285</td>\n",
       "      <td>100</td>\n",
       "    </tr>\n",
       "  </tbody>\n",
       "</table>\n",
       "</div>"
      ],
      "text/plain": [
       "                                   College              Location     Type  \\\n",
       "220  West Coast University - Orange County          Anaheim, CA   4 Year    \n",
       "221    San Francisco Conservatory of Music    San Francisco, CA   4 Year    \n",
       "222    West Coast University - Los Angeles  North Hollywood, CA   4 Year    \n",
       "223           Los Angeles College of Music         Pasadena, CA   4 Year    \n",
       "224                      Homestead Schools         Torrance, CA   4 Year    \n",
       "\n",
       "     Avg cost after aid  Acceptance Rate  \n",
       "220               40721               95  \n",
       "221               39799               45  \n",
       "222               42038               92  \n",
       "223               31317              100  \n",
       "224               12285              100  "
      ]
     },
     "execution_count": 8,
     "metadata": {},
     "output_type": "execute_result"
    }
   ],
   "source": [
    "print(len(df))\n",
    "df.tail()"
   ]
  },
  {
   "cell_type": "markdown",
   "metadata": {},
   "source": [
    "### Plotting"
   ]
  },
  {
   "cell_type": "code",
   "execution_count": 9,
   "metadata": {},
   "outputs": [],
   "source": [
    "import matplotlib.pyplot as plt\n",
    "# Too many samples, so splitting it into groups of 15\n",
    "points = []\n",
    "stops = [[0, 15], [15, 30], [30, 45], [45, 51]]\n",
    "# adding x and y pairs to points,\n",
    "for start, end in stops:\n",
    "    points.append((list(df['College'].values)[start: end], list(df['Acceptance Rate'].values)[start :end]))"
   ]
  },
  {
   "cell_type": "code",
   "execution_count": 10,
   "metadata": {},
   "outputs": [
    {
     "data": {
      "image/png": "[encoded data removed]",
      "text/plain": [
       "<Figure size 432x288 with 1 Axes>"
      ]
     },
     "metadata": {
      "needs_background": "light"
     },
     "output_type": "display_data"
    },
    {
     "data": {
      "image/png": "[encoded data removed]",
      "text/plain": [
       "<Figure size 432x288 with 1 Axes>"
      ]
     },
     "metadata": {
      "needs_background": "light"
     },
     "output_type": "display_data"
    },
    {
     "data": {
      "image/png": "[encoded data removed]",
      "text/plain": [
       "<Figure size 432x288 with 1 Axes>"
      ]
     },
     "metadata": {
      "needs_background": "light"
     },
     "output_type": "display_data"
    },
    {
     "data": {
      "image/png": "[encoded data removed]",
      "text/plain": [
       "<Figure size 432x288 with 1 Axes>"
      ]
     },
     "metadata": {
      "needs_background": "light"
     },
     "output_type": "display_data"
    }
   ],
   "source": [
    "def show_plot(x, y):\n",
    "    plt.barh(x, y)\n",
    "    plt.xlabel('Percent')\n",
    "    plt.ylabel('College')\n",
    "    plt.title('Acceptance rate by college')\n",
    "    plt.show()\n",
    "\n",
    "# looping through pair in points\n",
    "for x, y in points:\n",
    "    show_plot(x, y)"
   ]
  },
  {
   "cell_type": "markdown",
   "metadata": {},
   "source": [
    "## Questions"
   ]
  },
  {
   "cell_type": "code",
   "execution_count": 11,
   "metadata": {},
   "outputs": [
    {
     "data": {
      "text/html": [
       "<div>\n",
       "<style scoped>\n",
       "    .dataframe tbody tr th:only-of-type {\n",
       "        vertical-align: middle;\n",
       "    }\n",
       "\n",
       "    .dataframe tbody tr th {\n",
       "        vertical-align: top;\n",
       "    }\n",
       "\n",
       "    .dataframe thead th {\n",
       "        text-align: right;\n",
       "    }\n",
       "</style>\n",
       "<table border=\"1\" class=\"dataframe\">\n",
       "  <thead>\n",
       "    <tr style=\"text-align: right;\">\n",
       "      <th></th>\n",
       "      <th>College</th>\n",
       "      <th>Location</th>\n",
       "      <th>Type</th>\n",
       "      <th>Avg cost after aid</th>\n",
       "      <th>Acceptance Rate</th>\n",
       "    </tr>\n",
       "  </thead>\n",
       "  <tbody>\n",
       "    <tr>\n",
       "      <th>0</th>\n",
       "      <td>Stanford University</td>\n",
       "      <td>Stanford, CA</td>\n",
       "      <td>4 Year</td>\n",
       "      <td>17271</td>\n",
       "      <td>4</td>\n",
       "    </tr>\n",
       "    <tr>\n",
       "      <th>1</th>\n",
       "      <td>California Institute of Technology</td>\n",
       "      <td>Pasadena, CA</td>\n",
       "      <td>4 Year</td>\n",
       "      <td>26361</td>\n",
       "      <td>7</td>\n",
       "    </tr>\n",
       "    <tr>\n",
       "      <th>2</th>\n",
       "      <td>University of Southern California</td>\n",
       "      <td>Los Angeles, CA</td>\n",
       "      <td>4 Year</td>\n",
       "      <td>36161</td>\n",
       "      <td>13</td>\n",
       "    </tr>\n",
       "    <tr>\n",
       "      <th>3</th>\n",
       "      <td>Pomona College</td>\n",
       "      <td>Claremont, CA</td>\n",
       "      <td>4 Year</td>\n",
       "      <td>16988</td>\n",
       "      <td>8</td>\n",
       "    </tr>\n",
       "    <tr>\n",
       "      <th>4</th>\n",
       "      <td>University of California - Los Angeles</td>\n",
       "      <td>Los Angeles, CA</td>\n",
       "      <td>4 Year</td>\n",
       "      <td>15002</td>\n",
       "      <td>14</td>\n",
       "    </tr>\n",
       "  </tbody>\n",
       "</table>\n",
       "</div>"
      ],
      "text/plain": [
       "                                  College          Location     Type  \\\n",
       "0                     Stanford University     Stanford, CA   4 Year    \n",
       "1      California Institute of Technology     Pasadena, CA   4 Year    \n",
       "2       University of Southern California  Los Angeles, CA   4 Year    \n",
       "3                          Pomona College    Claremont, CA   4 Year    \n",
       "4  University of California - Los Angeles  Los Angeles, CA   4 Year    \n",
       "\n",
       "   Avg cost after aid  Acceptance Rate  \n",
       "0               17271                4  \n",
       "1               26361                7  \n",
       "2               36161               13  \n",
       "3               16988                8  \n",
       "4               15002               14  "
      ]
     },
     "execution_count": 11,
     "metadata": {},
     "output_type": "execute_result"
    }
   ],
   "source": [
    "df.head()"
   ]
  },
  {
   "cell_type": "markdown",
   "metadata": {},
   "source": [
    "### Q1. What city are most colleges located in?"
   ]
  },
  {
   "cell_type": "code",
   "execution_count": 12,
   "metadata": {},
   "outputs": [
    {
     "data": {
      "text/plain": [
       "Los Angeles, CA       11\n",
       "San Diego, CA          7\n",
       "San Francisco, CA      6\n",
       "Name: Location, dtype: int64"
      ]
     },
     "execution_count": 12,
     "metadata": {},
     "output_type": "execute_result"
    }
   ],
   "source": [
    "df['Location'].value_counts().head(3)"
   ]
  },
  {
   "cell_type": "markdown",
   "metadata": {},
   "source": [
    "#### A1:   Los Angeles"
   ]
  },
  {
   "cell_type": "markdown",
   "metadata": {},
   "source": [
    "### Q2: What is the average acceptance rate per location? "
   ]
  },
  {
   "cell_type": "code",
   "execution_count": 13,
   "metadata": {},
   "outputs": [
    {
     "data": {
      "text/plain": [
       "Location\n",
       "Alameda, CA         100.0\n",
       "Alhambra, CA        100.0\n",
       "Aliso Viejo, CA      39.0\n",
       "Anaheim, CA          77.5\n",
       "Name: Acceptance Rate, dtype: float64"
      ]
     },
     "execution_count": 13,
     "metadata": {},
     "output_type": "execute_result"
    }
   ],
   "source": [
    "df.groupby('Location').mean()['Acceptance Rate'].head(4)"
   ]
  },
  {
   "cell_type": "markdown",
   "metadata": {},
   "source": [
    "#### A2: above"
   ]
  },
  {
   "cell_type": "markdown",
   "metadata": {},
   "source": [
    "### Q3: What location typically has the highest cost and which typically has the lowest cost"
   ]
  },
  {
   "cell_type": "code",
   "execution_count": 14,
   "metadata": {},
   "outputs": [
    {
     "data": {
      "text/plain": [
       "Location\n",
       "Alameda, CA             8423.0\n",
       "Alhambra, CA           27539.0\n",
       "Aliso Viejo, CA        14739.0\n",
       "Anaheim, CA            31869.5\n",
       "Angwin, CA             23005.0\n",
       "                        ...   \n",
       "Whittier, CA           15933.0\n",
       "Wilmington, CA         11526.0\n",
       "Woodland Hills, CA     11195.0\n",
       "Woodland, CA            5722.0\n",
       "Yucaipa, CA            16458.0\n",
       "Name: Avg cost after aid, Length: 146, dtype: float64"
      ]
     },
     "execution_count": 14,
     "metadata": {},
     "output_type": "execute_result"
    }
   ],
   "source": [
    "df.groupby('Location').mean()['Avg cost after aid']"
   ]
  },
  {
   "cell_type": "markdown",
   "metadata": {},
   "source": [
    "#### A3: Online is typically the cheapest and the most expensive is  Santa Clara, CA"
   ]
  },
  {
   "cell_type": "markdown",
   "metadata": {},
   "source": [
    "### Q4: How many types of colleges are there and how many are there of each?"
   ]
  },
  {
   "cell_type": "code",
   "execution_count": 15,
   "metadata": {},
   "outputs": [
    {
     "data": {
      "text/plain": [
       "4 Year              121\n",
       "2 Year              101\n",
       "4 Year (Online)       3\n",
       "Name: Type, dtype: int64"
      ]
     },
     "execution_count": 15,
     "metadata": {},
     "output_type": "execute_result"
    }
   ],
   "source": [
    "df['Type'].value_counts()"
   ]
  },
  {
   "cell_type": "markdown",
   "metadata": {},
   "source": [
    "#### A4: The types are 4 Year, 2 Year, and 4 Year (Online). There are 121 colleges that are 4 year, 101 colleges of 2 Year, and 3 college that is 4 Year (Online)"
   ]
  }
 ],
 "metadata": {
  "kernelspec": {
   "display_name": "Python 3",
   "language": "python",
   "name": "python3"
  },
  "language_info": {
   "codemirror_mode": {
    "name": "ipython",
    "version": 3
   },
   "file_extension": ".py",
   "mimetype": "text/x-python",
   "name": "python",
   "nbconvert_exporter": "python",
   "pygments_lexer": "ipython3",
   "version": "3.8.3"
  }
 },
 "nbformat": 4,
 "nbformat_minor": 4
}
