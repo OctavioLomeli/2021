{
 "cells": [
  {
   "cell_type": "markdown",
   "metadata": {},
   "source": [
    "### Imports"
   ]
  },
  {
   "cell_type": "code",
   "execution_count": 1,
   "metadata": {},
   "outputs": [],
   "source": [
    "import requests\n",
    "import numpy as np\n",
    "import pandas as pd\n",
    "from bs4 import BeautifulSoup as bs"
   ]
  },
  {
   "cell_type": "markdown",
   "metadata": {},
   "source": [
    "### Variables"
   ]
  },
  {
   "cell_type": "code",
   "execution_count": 2,
   "metadata": {},
   "outputs": [],
   "source": [
    "# to store information\n",
    "information = {'price': [], 'address': [], '# beds': [], '# bathrooms': [], 'sqft': [], 'description': []}\n"
   ]
  },
  {
   "cell_type": "markdown",
   "metadata": {},
   "source": [
    "### Scraping"
   ]
  },
  {
   "cell_type": "code",
   "execution_count": 3,
   "metadata": {},
   "outputs": [],
   "source": [
    "# looping through urls\n",
    "for i in range(2, 21):\n",
    "    # passing in url\n",
    "    url = f'https://www.zillow.com/homes/for_sale/house,condo,multifamily,mobile,townhouse_type/{i}_p/?searchQueryState=%7B%22mapBounds%22%3A%7B%22west%22%3A-124.67501706339816%2C%22east%22%3A-120.25301999308566%2C%22south%22%3A36.41890074540627%2C%22north%22%3A38.62914963315323%7D%2C%22isMapVisible%22%3Atrue%2C%22filterState%22%3A%7B%22sort%22%3A%7B%22value%22%3A%22globalrelevanceex%22%7D%2C%22ah%22%3A%7B%22value%22%3Atrue%7D%2C%22land%22%3A%7B%22value%22%3Afalse%7D%2C%22apa%22%3A%7B%22value%22%3Afalse%7D%7D%2C%22isListVisible%22%3Atrue%2C%22mapZoom%22%3A8%2C%22customRegionId%22%3A%221d2e35fe17X1-CR1va6xspgmqnpa_12pfr1%22%2C%22pagination%22%3A%7B%22currentPage%22%3A{i}%7D%7D'\n",
    "    r = requests.get(url).text\n",
    "    soup = bs(r, 'lxml')\n",
    "    \n",
    "    container_of_information = soup.find('ul', class_='photo-cards photo-cards_wow photo-cards_short')\n",
    "    for card in container_of_information.find_all('li'):\n",
    "        try:\n",
    "            # adding description\n",
    "            information['description'].append(card.find('div', class_='list-card-footer').text)\n",
    "\n",
    "            # adding price\n",
    "            information['price'].append(card.find('div', class_='list-card-price').text)\n",
    "\n",
    "            more_details = card.find('ul', class_='list-card-details')\n",
    "\n",
    "            # looping through list-items in ul\n",
    "            for index, li in enumerate(more_details.find_all('li')):\n",
    "\n",
    "                if index == 0: # first item is info of bed\n",
    "                    information['# beds'].append(li.text)\n",
    "\n",
    "                elif index == 1: # second item is info of bathrooms\n",
    "                    information['# bathrooms'].append(li.text)\n",
    "\n",
    "                else: # third/last info is of sqft\n",
    "                    information['sqft'].append(li.text)\n",
    "\n",
    "            # adding address\n",
    "            information['address'].append(card.find('address', class_='list-card-addr').text)\n",
    "        except:\n",
    "            # missing values\n",
    "            pass"
   ]
  },
  {
   "cell_type": "markdown",
   "metadata": {},
   "source": [
    "### Viewing information"
   ]
  },
  {
   "cell_type": "code",
   "execution_count": 4,
   "metadata": {},
   "outputs": [
    {
     "name": "stdout",
     "output_type": "stream",
     "text": [
      "760\n",
      "760\n",
      "760\n",
      "760\n",
      "760\n",
      "760\n"
     ]
    }
   ],
   "source": [
    "# checking # of samples\n",
    "for element in information['sqft']:\n",
    "    if 'sqft' not in element:\n",
    "        information['sqft'].remove(element)\n",
    "for key in information.keys():\n",
    "    print(len(information[key]))"
   ]
  },
  {
   "cell_type": "markdown",
   "metadata": {},
   "source": [
    "### Making DataFrame"
   ]
  },
  {
   "cell_type": "code",
   "execution_count": 5,
   "metadata": {},
   "outputs": [
    {
     "data": {
      "text/html": [
       "<div>\n",
       "<style scoped>\n",
       "    .dataframe tbody tr th:only-of-type {\n",
       "        vertical-align: middle;\n",
       "    }\n",
       "\n",
       "    .dataframe tbody tr th {\n",
       "        vertical-align: top;\n",
       "    }\n",
       "\n",
       "    .dataframe thead th {\n",
       "        text-align: right;\n",
       "    }\n",
       "</style>\n",
       "<table border=\"1\" class=\"dataframe\">\n",
       "  <thead>\n",
       "    <tr style=\"text-align: right;\">\n",
       "      <th></th>\n",
       "      <th>price</th>\n",
       "      <th>address</th>\n",
       "      <th># beds</th>\n",
       "      <th># bathrooms</th>\n",
       "      <th>sqft</th>\n",
       "      <th>description</th>\n",
       "    </tr>\n",
       "  </thead>\n",
       "  <tbody>\n",
       "    <tr>\n",
       "      <th>0</th>\n",
       "      <td>$229,000</td>\n",
       "      <td>16 Windjammer Pl, Daly City, CA 94014</td>\n",
       "      <td>2 bds</td>\n",
       "      <td>2 ba</td>\n",
       "      <td>1,140 sqft</td>\n",
       "      <td>Home for sale</td>\n",
       "    </tr>\n",
       "    <tr>\n",
       "      <th>1</th>\n",
       "      <td>$929,000</td>\n",
       "      <td>591 Pointe Pacific APT 3, Daly City, CA 94014</td>\n",
       "      <td>3 bds</td>\n",
       "      <td>3 ba</td>\n",
       "      <td>1,690 sqft</td>\n",
       "      <td>Condo for sale</td>\n",
       "    </tr>\n",
       "    <tr>\n",
       "      <th>2</th>\n",
       "      <td>$899,000</td>\n",
       "      <td>230 N Lake Merced Hls APT 1D, San Francisco, C...</td>\n",
       "      <td>3 bds</td>\n",
       "      <td>2 ba</td>\n",
       "      <td>1,474 sqft</td>\n",
       "      <td>Condo for sale</td>\n",
       "    </tr>\n",
       "  </tbody>\n",
       "</table>\n",
       "</div>"
      ],
      "text/plain": [
       "      price                                            address # beds  \\\n",
       "0  $229,000              16 Windjammer Pl, Daly City, CA 94014  2 bds   \n",
       "1  $929,000      591 Pointe Pacific APT 3, Daly City, CA 94014  3 bds   \n",
       "2  $899,000  230 N Lake Merced Hls APT 1D, San Francisco, C...  3 bds   \n",
       "\n",
       "  # bathrooms        sqft     description  \n",
       "0        2 ba  1,140 sqft   Home for sale  \n",
       "1        3 ba  1,690 sqft  Condo for sale  \n",
       "2        2 ba  1,474 sqft  Condo for sale  "
      ]
     },
     "execution_count": 5,
     "metadata": {},
     "output_type": "execute_result"
    }
   ],
   "source": [
    "df = pd.DataFrame(information)\n",
    "df.head(3)"
   ]
  },
  {
   "cell_type": "markdown",
   "metadata": {},
   "source": [
    "## Cleaning"
   ]
  },
  {
   "cell_type": "markdown",
   "metadata": {},
   "source": [
    "##### price column"
   ]
  },
  {
   "cell_type": "code",
   "execution_count": 6,
   "metadata": {},
   "outputs": [
    {
     "data": {
      "text/html": [
       "<div>\n",
       "<style scoped>\n",
       "    .dataframe tbody tr th:only-of-type {\n",
       "        vertical-align: middle;\n",
       "    }\n",
       "\n",
       "    .dataframe tbody tr th {\n",
       "        vertical-align: top;\n",
       "    }\n",
       "\n",
       "    .dataframe thead th {\n",
       "        text-align: right;\n",
       "    }\n",
       "</style>\n",
       "<table border=\"1\" class=\"dataframe\">\n",
       "  <thead>\n",
       "    <tr style=\"text-align: right;\">\n",
       "      <th></th>\n",
       "      <th>price</th>\n",
       "      <th>address</th>\n",
       "      <th># beds</th>\n",
       "      <th># bathrooms</th>\n",
       "      <th>sqft</th>\n",
       "      <th>description</th>\n",
       "    </tr>\n",
       "  </thead>\n",
       "  <tbody>\n",
       "    <tr>\n",
       "      <th>0</th>\n",
       "      <td>229000</td>\n",
       "      <td>16 Windjammer Pl, Daly City, CA 94014</td>\n",
       "      <td>2 bds</td>\n",
       "      <td>2 ba</td>\n",
       "      <td>1,140 sqft</td>\n",
       "      <td>Home for sale</td>\n",
       "    </tr>\n",
       "    <tr>\n",
       "      <th>1</th>\n",
       "      <td>929000</td>\n",
       "      <td>591 Pointe Pacific APT 3, Daly City, CA 94014</td>\n",
       "      <td>3 bds</td>\n",
       "      <td>3 ba</td>\n",
       "      <td>1,690 sqft</td>\n",
       "      <td>Condo for sale</td>\n",
       "    </tr>\n",
       "    <tr>\n",
       "      <th>2</th>\n",
       "      <td>899000</td>\n",
       "      <td>230 N Lake Merced Hls APT 1D, San Francisco, C...</td>\n",
       "      <td>3 bds</td>\n",
       "      <td>2 ba</td>\n",
       "      <td>1,474 sqft</td>\n",
       "      <td>Condo for sale</td>\n",
       "    </tr>\n",
       "  </tbody>\n",
       "</table>\n",
       "</div>"
      ],
      "text/plain": [
       "    price                                            address # beds  \\\n",
       "0  229000              16 Windjammer Pl, Daly City, CA 94014  2 bds   \n",
       "1  929000      591 Pointe Pacific APT 3, Daly City, CA 94014  3 bds   \n",
       "2  899000  230 N Lake Merced Hls APT 1D, San Francisco, C...  3 bds   \n",
       "\n",
       "  # bathrooms        sqft     description  \n",
       "0        2 ba  1,140 sqft   Home for sale  \n",
       "1        3 ba  1,690 sqft  Condo for sale  \n",
       "2        2 ba  1,474 sqft  Condo for sale  "
      ]
     },
     "execution_count": 6,
     "metadata": {},
     "output_type": "execute_result"
    }
   ],
   "source": [
    "# can only replace one at a time\n",
    "df['price'] = df['price'].str.replace('$', '')\n",
    "df['price'] = df['price'].str.replace(',', '', 2)\n",
    "df['price'] = df['price'].str.replace('Est. ', '')\n",
    "df['price'] = df['price'].str.replace('+', '')\n",
    "df['price'] = pd.to_numeric(df['price'])\n",
    "df.head(3)"
   ]
  },
  {
   "cell_type": "markdown",
   "metadata": {},
   "source": [
    "##### # beds column"
   ]
  },
  {
   "cell_type": "code",
   "execution_count": 7,
   "metadata": {},
   "outputs": [],
   "source": [
    "df['# beds'] = df['# beds'].str.replace('bds', '').str.strip()\n",
    "df['# beds'] = df['# beds'].str.replace('bd', '').str.strip()\n",
    "df['# beds'] = df['# beds'].str.replace('--', '').str.strip()\n",
    "df['# beds'] = df['# beds'].str.replace('Studio', '').str.strip()\n",
    "df['# beds'] = df['# beds'].str.replace(',', '').str.strip()"
   ]
  },
  {
   "cell_type": "markdown",
   "metadata": {},
   "source": [
    "##### bathrooms column"
   ]
  },
  {
   "cell_type": "code",
   "execution_count": 11,
   "metadata": {},
   "outputs": [
    {
     "data": {
      "text/html": [
       "<div>\n",
       "<style scoped>\n",
       "    .dataframe tbody tr th:only-of-type {\n",
       "        vertical-align: middle;\n",
       "    }\n",
       "\n",
       "    .dataframe tbody tr th {\n",
       "        vertical-align: top;\n",
       "    }\n",
       "\n",
       "    .dataframe thead th {\n",
       "        text-align: right;\n",
       "    }\n",
       "</style>\n",
       "<table border=\"1\" class=\"dataframe\">\n",
       "  <thead>\n",
       "    <tr style=\"text-align: right;\">\n",
       "      <th></th>\n",
       "      <th>price</th>\n",
       "      <th>address</th>\n",
       "      <th># beds</th>\n",
       "      <th># bathrooms</th>\n",
       "      <th>sqft</th>\n",
       "      <th>description</th>\n",
       "    </tr>\n",
       "  </thead>\n",
       "  <tbody>\n",
       "    <tr>\n",
       "      <th>0</th>\n",
       "      <td>229000</td>\n",
       "      <td>16 Windjammer Pl, Daly City, CA 94014</td>\n",
       "      <td>2.0</td>\n",
       "      <td>2</td>\n",
       "      <td>1140</td>\n",
       "      <td>Home for sale</td>\n",
       "    </tr>\n",
       "    <tr>\n",
       "      <th>1</th>\n",
       "      <td>929000</td>\n",
       "      <td>591 Pointe Pacific APT 3, Daly City, CA 94014</td>\n",
       "      <td>3.0</td>\n",
       "      <td>3</td>\n",
       "      <td>1690</td>\n",
       "      <td>Condo for sale</td>\n",
       "    </tr>\n",
       "    <tr>\n",
       "      <th>2</th>\n",
       "      <td>899000</td>\n",
       "      <td>230 N Lake Merced Hls APT 1D, San Francisco, C...</td>\n",
       "      <td>3.0</td>\n",
       "      <td>2</td>\n",
       "      <td>1474</td>\n",
       "      <td>Condo for sale</td>\n",
       "    </tr>\n",
       "  </tbody>\n",
       "</table>\n",
       "</div>"
      ],
      "text/plain": [
       "    price                                            address  # beds  \\\n",
       "0  229000              16 Windjammer Pl, Daly City, CA 94014     2.0   \n",
       "1  929000      591 Pointe Pacific APT 3, Daly City, CA 94014     3.0   \n",
       "2  899000  230 N Lake Merced Hls APT 1D, San Francisco, C...     3.0   \n",
       "\n",
       "  # bathrooms  sqft     description  \n",
       "0           2  1140   Home for sale  \n",
       "1           3  1690  Condo for sale  \n",
       "2           2  1474  Condo for sale  "
      ]
     },
     "execution_count": 11,
     "metadata": {},
     "output_type": "execute_result"
    }
   ],
   "source": [
    "df['# bathrooms'] = df['# bathrooms'].str.replace('ba', '').str.strip()\n",
    "df['# bathrooms'] = df['# bathrooms'].str.replace('--', '').str.strip()\n",
    "df['# bathrooms'] = df['# bathrooms'].str.replace(',', '').str.strip()\n",
    "df.head(3)"
   ]
  },
  {
   "cell_type": "markdown",
   "metadata": {},
   "source": [
    "##### sqft column"
   ]
  },
  {
   "cell_type": "code",
   "execution_count": 9,
   "metadata": {},
   "outputs": [
    {
     "data": {
      "text/html": [
       "<div>\n",
       "<style scoped>\n",
       "    .dataframe tbody tr th:only-of-type {\n",
       "        vertical-align: middle;\n",
       "    }\n",
       "\n",
       "    .dataframe tbody tr th {\n",
       "        vertical-align: top;\n",
       "    }\n",
       "\n",
       "    .dataframe thead th {\n",
       "        text-align: right;\n",
       "    }\n",
       "</style>\n",
       "<table border=\"1\" class=\"dataframe\">\n",
       "  <thead>\n",
       "    <tr style=\"text-align: right;\">\n",
       "      <th></th>\n",
       "      <th>price</th>\n",
       "      <th>address</th>\n",
       "      <th># beds</th>\n",
       "      <th># bathrooms</th>\n",
       "      <th>sqft</th>\n",
       "      <th>description</th>\n",
       "    </tr>\n",
       "  </thead>\n",
       "  <tbody>\n",
       "    <tr>\n",
       "      <th>757</th>\n",
       "      <td>799000</td>\n",
       "      <td>1038 Pine St #B, San Francisco, CA 94109</td>\n",
       "      <td>1</td>\n",
       "      <td>1</td>\n",
       "      <td>714</td>\n",
       "      <td>Condo for sale</td>\n",
       "    </tr>\n",
       "    <tr>\n",
       "      <th>758</th>\n",
       "      <td>1795000</td>\n",
       "      <td>330 8th Ave, San Francisco, CA 94118</td>\n",
       "      <td>5</td>\n",
       "      <td>2</td>\n",
       "      <td>3118</td>\n",
       "      <td>Multi-family home for sale</td>\n",
       "    </tr>\n",
       "    <tr>\n",
       "      <th>759</th>\n",
       "      <td>1100000</td>\n",
       "      <td>555 4th St UNIT 429, San Francisco, CA 94107</td>\n",
       "      <td>2</td>\n",
       "      <td>2</td>\n",
       "      <td>1022</td>\n",
       "      <td>Condo for sale</td>\n",
       "    </tr>\n",
       "  </tbody>\n",
       "</table>\n",
       "</div>"
      ],
      "text/plain": [
       "       price                                       address # beds # bathrooms  \\\n",
       "757   799000      1038 Pine St #B, San Francisco, CA 94109      1           1   \n",
       "758  1795000          330 8th Ave, San Francisco, CA 94118      5           2   \n",
       "759  1100000  555 4th St UNIT 429, San Francisco, CA 94107      2           2   \n",
       "\n",
       "     sqft                 description  \n",
       "757   714              Condo for sale  \n",
       "758  3118  Multi-family home for sale  \n",
       "759  1022              Condo for sale  "
      ]
     },
     "execution_count": 9,
     "metadata": {},
     "output_type": "execute_result"
    }
   ],
   "source": [
    "df['sqft'] = df['sqft'].str.replace(',', '', 2)\n",
    "df['sqft'] = df['sqft'].str.replace('sqft', '').str.strip()\n",
    "df['sqft'] = df['sqft'].str.replace('--', '').str.strip()\n",
    "df.tail(3)"
   ]
  },
  {
   "cell_type": "markdown",
   "metadata": {},
   "source": [
    "##### final touch"
   ]
  },
  {
   "cell_type": "code",
   "execution_count": 12,
   "metadata": {},
   "outputs": [],
   "source": [
    "# replacing all '?'s with NaN\n",
    "df = df.replace('', np.NaN)\n",
    "\n",
    "df['# beds'] = pd.to_numeric(df['# beds'])\n",
    "df['# bathrooms'] = pd.to_numeric(df['# bathrooms'])\n",
    "df['sqft'] = pd.to_numeric(df['sqft'])"
   ]
  },
  {
   "cell_type": "markdown",
   "metadata": {},
   "source": [
    "### View cleaned data"
   ]
  },
  {
   "cell_type": "code",
   "execution_count": 13,
   "metadata": {},
   "outputs": [
    {
     "data": {
      "text/html": [
       "<div>\n",
       "<style scoped>\n",
       "    .dataframe tbody tr th:only-of-type {\n",
       "        vertical-align: middle;\n",
       "    }\n",
       "\n",
       "    .dataframe tbody tr th {\n",
       "        vertical-align: top;\n",
       "    }\n",
       "\n",
       "    .dataframe thead th {\n",
       "        text-align: right;\n",
       "    }\n",
       "</style>\n",
       "<table border=\"1\" class=\"dataframe\">\n",
       "  <thead>\n",
       "    <tr style=\"text-align: right;\">\n",
       "      <th></th>\n",
       "      <th>price</th>\n",
       "      <th>address</th>\n",
       "      <th># beds</th>\n",
       "      <th># bathrooms</th>\n",
       "      <th>sqft</th>\n",
       "      <th>description</th>\n",
       "    </tr>\n",
       "  </thead>\n",
       "  <tbody>\n",
       "    <tr>\n",
       "      <th>0</th>\n",
       "      <td>229000</td>\n",
       "      <td>16 Windjammer Pl, Daly City, CA 94014</td>\n",
       "      <td>2.0</td>\n",
       "      <td>2.0</td>\n",
       "      <td>1140.0</td>\n",
       "      <td>Home for sale</td>\n",
       "    </tr>\n",
       "    <tr>\n",
       "      <th>1</th>\n",
       "      <td>929000</td>\n",
       "      <td>591 Pointe Pacific APT 3, Daly City, CA 94014</td>\n",
       "      <td>3.0</td>\n",
       "      <td>3.0</td>\n",
       "      <td>1690.0</td>\n",
       "      <td>Condo for sale</td>\n",
       "    </tr>\n",
       "    <tr>\n",
       "      <th>2</th>\n",
       "      <td>899000</td>\n",
       "      <td>230 N Lake Merced Hls APT 1D, San Francisco, C...</td>\n",
       "      <td>3.0</td>\n",
       "      <td>2.0</td>\n",
       "      <td>1474.0</td>\n",
       "      <td>Condo for sale</td>\n",
       "    </tr>\n",
       "    <tr>\n",
       "      <th>3</th>\n",
       "      <td>1225000</td>\n",
       "      <td>195 Balboa Way, San Bruno, CA 94066</td>\n",
       "      <td>4.0</td>\n",
       "      <td>3.0</td>\n",
       "      <td>1780.0</td>\n",
       "      <td>House for sale</td>\n",
       "    </tr>\n",
       "    <tr>\n",
       "      <th>4</th>\n",
       "      <td>490681</td>\n",
       "      <td>1875 Mission St APT 205, San Francisco, CA 94103</td>\n",
       "      <td>2.0</td>\n",
       "      <td>1.0</td>\n",
       "      <td>781.0</td>\n",
       "      <td>Condo for sale</td>\n",
       "    </tr>\n",
       "    <tr>\n",
       "      <th>5</th>\n",
       "      <td>3999888</td>\n",
       "      <td>123 Woodward Ave, Sausalito, CA 94965</td>\n",
       "      <td>5.0</td>\n",
       "      <td>6.0</td>\n",
       "      <td>5242.0</td>\n",
       "      <td>House for sale</td>\n",
       "    </tr>\n",
       "    <tr>\n",
       "      <th>6</th>\n",
       "      <td>267548</td>\n",
       "      <td>1695 18th St SUITE 409, San Francisco, CA 94107</td>\n",
       "      <td>NaN</td>\n",
       "      <td>1.0</td>\n",
       "      <td>636.0</td>\n",
       "      <td>Condo for sale</td>\n",
       "    </tr>\n",
       "    <tr>\n",
       "      <th>7</th>\n",
       "      <td>675000</td>\n",
       "      <td>33 W Harbor Dr, Sausalito, CA 94965</td>\n",
       "      <td>1.0</td>\n",
       "      <td>1.0</td>\n",
       "      <td>829.0</td>\n",
       "      <td>Condo for sale</td>\n",
       "    </tr>\n",
       "    <tr>\n",
       "      <th>8</th>\n",
       "      <td>679000</td>\n",
       "      <td>1264A Golden Gate Ave, San Francisco, CA 94115</td>\n",
       "      <td>3.0</td>\n",
       "      <td>1.0</td>\n",
       "      <td>874.0</td>\n",
       "      <td>Condo for sale</td>\n",
       "    </tr>\n",
       "    <tr>\n",
       "      <th>9</th>\n",
       "      <td>988000</td>\n",
       "      <td>411 Talbot Ave, Pacifica, CA 94044</td>\n",
       "      <td>4.0</td>\n",
       "      <td>2.0</td>\n",
       "      <td>1750.0</td>\n",
       "      <td>House for sale</td>\n",
       "    </tr>\n",
       "    <tr>\n",
       "      <th>10</th>\n",
       "      <td>3195000</td>\n",
       "      <td>2531 Mcallister St, San Francisco, CA 94118</td>\n",
       "      <td>5.0</td>\n",
       "      <td>4.0</td>\n",
       "      <td>2706.0</td>\n",
       "      <td>House for sale</td>\n",
       "    </tr>\n",
       "    <tr>\n",
       "      <th>11</th>\n",
       "      <td>769000</td>\n",
       "      <td>1490 Francisco St APT 8, San Francisco, CA 94123</td>\n",
       "      <td>1.0</td>\n",
       "      <td>1.0</td>\n",
       "      <td>785.0</td>\n",
       "      <td>Condo for sale</td>\n",
       "    </tr>\n",
       "    <tr>\n",
       "      <th>12</th>\n",
       "      <td>698000</td>\n",
       "      <td>310 Townsend St APT 208, San Francisco, CA 94107</td>\n",
       "      <td>1.0</td>\n",
       "      <td>1.0</td>\n",
       "      <td>789.0</td>\n",
       "      <td>Condo for sale</td>\n",
       "    </tr>\n",
       "    <tr>\n",
       "      <th>13</th>\n",
       "      <td>1899000</td>\n",
       "      <td>40 Crest Ave, San Anselmo, CA 94960</td>\n",
       "      <td>4.0</td>\n",
       "      <td>4.0</td>\n",
       "      <td>3095.0</td>\n",
       "      <td>House for sale</td>\n",
       "    </tr>\n",
       "    <tr>\n",
       "      <th>14</th>\n",
       "      <td>1985000</td>\n",
       "      <td>45 Oak Knoll Dr, San Anselmo, CA 94960</td>\n",
       "      <td>4.0</td>\n",
       "      <td>3.0</td>\n",
       "      <td>3010.0</td>\n",
       "      <td>House for sale</td>\n",
       "    </tr>\n",
       "    <tr>\n",
       "      <th>15</th>\n",
       "      <td>798888</td>\n",
       "      <td>540 Delancey St UNIT 305, San Francisco, CA 94107</td>\n",
       "      <td>1.0</td>\n",
       "      <td>1.0</td>\n",
       "      <td>612.0</td>\n",
       "      <td>Condo for sale</td>\n",
       "    </tr>\n",
       "    <tr>\n",
       "      <th>16</th>\n",
       "      <td>1950000</td>\n",
       "      <td>113 Prospect Ave, Sausalito, CA 94965</td>\n",
       "      <td>3.0</td>\n",
       "      <td>4.0</td>\n",
       "      <td>2030.0</td>\n",
       "      <td>Condo for sale</td>\n",
       "    </tr>\n",
       "    <tr>\n",
       "      <th>17</th>\n",
       "      <td>1989000</td>\n",
       "      <td>493 Bridgeway, Sausalito, CA 94965</td>\n",
       "      <td>3.0</td>\n",
       "      <td>2.0</td>\n",
       "      <td>1966.0</td>\n",
       "      <td>House for sale</td>\n",
       "    </tr>\n",
       "    <tr>\n",
       "      <th>18</th>\n",
       "      <td>1200000</td>\n",
       "      <td>999 Cedar St, Montara, CA 94037</td>\n",
       "      <td>3.0</td>\n",
       "      <td>2.0</td>\n",
       "      <td>1470.0</td>\n",
       "      <td>House for sale</td>\n",
       "    </tr>\n",
       "    <tr>\n",
       "      <th>19</th>\n",
       "      <td>649000</td>\n",
       "      <td>625 Larkin St #7, San Francisco, CA 94109</td>\n",
       "      <td>2.0</td>\n",
       "      <td>1.5</td>\n",
       "      <td>858.0</td>\n",
       "      <td>Condo for sale</td>\n",
       "    </tr>\n",
       "    <tr>\n",
       "      <th>20</th>\n",
       "      <td>588000</td>\n",
       "      <td>461 2nd St APT C209, San Francisco, CA 94107</td>\n",
       "      <td>NaN</td>\n",
       "      <td>1.0</td>\n",
       "      <td>510.0</td>\n",
       "      <td>Condo for sale</td>\n",
       "    </tr>\n",
       "    <tr>\n",
       "      <th>21</th>\n",
       "      <td>669000</td>\n",
       "      <td>3235 Gough St APT 205, San Francisco, CA 94123</td>\n",
       "      <td>1.0</td>\n",
       "      <td>1.0</td>\n",
       "      <td>532.0</td>\n",
       "      <td>Contingent</td>\n",
       "    </tr>\n",
       "    <tr>\n",
       "      <th>22</th>\n",
       "      <td>25000000</td>\n",
       "      <td>435 Marina Blvd, San Francisco, CA 94123</td>\n",
       "      <td>5.0</td>\n",
       "      <td>7.5</td>\n",
       "      <td>7039.0</td>\n",
       "      <td>House for sale</td>\n",
       "    </tr>\n",
       "    <tr>\n",
       "      <th>23</th>\n",
       "      <td>1299950</td>\n",
       "      <td>7 Fernwood Ave, Daly City, CA 94015</td>\n",
       "      <td>5.0</td>\n",
       "      <td>5.0</td>\n",
       "      <td>2150.0</td>\n",
       "      <td>House for sale</td>\n",
       "    </tr>\n",
       "    <tr>\n",
       "      <th>24</th>\n",
       "      <td>899000</td>\n",
       "      <td>106-108 Sadowa St, San Francisco, CA 94112</td>\n",
       "      <td>4.0</td>\n",
       "      <td>2.0</td>\n",
       "      <td>2200.0</td>\n",
       "      <td>Multi-family home for sale</td>\n",
       "    </tr>\n",
       "  </tbody>\n",
       "</table>\n",
       "</div>"
      ],
      "text/plain": [
       "       price                                            address  # beds  \\\n",
       "0     229000              16 Windjammer Pl, Daly City, CA 94014     2.0   \n",
       "1     929000      591 Pointe Pacific APT 3, Daly City, CA 94014     3.0   \n",
       "2     899000  230 N Lake Merced Hls APT 1D, San Francisco, C...     3.0   \n",
       "3    1225000                195 Balboa Way, San Bruno, CA 94066     4.0   \n",
       "4     490681   1875 Mission St APT 205, San Francisco, CA 94103     2.0   \n",
       "5    3999888              123 Woodward Ave, Sausalito, CA 94965     5.0   \n",
       "6     267548    1695 18th St SUITE 409, San Francisco, CA 94107     NaN   \n",
       "7     675000                33 W Harbor Dr, Sausalito, CA 94965     1.0   \n",
       "8     679000     1264A Golden Gate Ave, San Francisco, CA 94115     3.0   \n",
       "9     988000                 411 Talbot Ave, Pacifica, CA 94044     4.0   \n",
       "10   3195000        2531 Mcallister St, San Francisco, CA 94118     5.0   \n",
       "11    769000   1490 Francisco St APT 8, San Francisco, CA 94123     1.0   \n",
       "12    698000   310 Townsend St APT 208, San Francisco, CA 94107     1.0   \n",
       "13   1899000                40 Crest Ave, San Anselmo, CA 94960     4.0   \n",
       "14   1985000             45 Oak Knoll Dr, San Anselmo, CA 94960     4.0   \n",
       "15    798888  540 Delancey St UNIT 305, San Francisco, CA 94107     1.0   \n",
       "16   1950000              113 Prospect Ave, Sausalito, CA 94965     3.0   \n",
       "17   1989000                 493 Bridgeway, Sausalito, CA 94965     3.0   \n",
       "18   1200000                    999 Cedar St, Montara, CA 94037     3.0   \n",
       "19    649000          625 Larkin St #7, San Francisco, CA 94109     2.0   \n",
       "20    588000       461 2nd St APT C209, San Francisco, CA 94107     NaN   \n",
       "21    669000     3235 Gough St APT 205, San Francisco, CA 94123     1.0   \n",
       "22  25000000           435 Marina Blvd, San Francisco, CA 94123     5.0   \n",
       "23   1299950                7 Fernwood Ave, Daly City, CA 94015     5.0   \n",
       "24    899000         106-108 Sadowa St, San Francisco, CA 94112     4.0   \n",
       "\n",
       "    # bathrooms    sqft                 description  \n",
       "0           2.0  1140.0               Home for sale  \n",
       "1           3.0  1690.0              Condo for sale  \n",
       "2           2.0  1474.0              Condo for sale  \n",
       "3           3.0  1780.0              House for sale  \n",
       "4           1.0   781.0              Condo for sale  \n",
       "5           6.0  5242.0              House for sale  \n",
       "6           1.0   636.0              Condo for sale  \n",
       "7           1.0   829.0              Condo for sale  \n",
       "8           1.0   874.0              Condo for sale  \n",
       "9           2.0  1750.0              House for sale  \n",
       "10          4.0  2706.0              House for sale  \n",
       "11          1.0   785.0              Condo for sale  \n",
       "12          1.0   789.0              Condo for sale  \n",
       "13          4.0  3095.0              House for sale  \n",
       "14          3.0  3010.0              House for sale  \n",
       "15          1.0   612.0              Condo for sale  \n",
       "16          4.0  2030.0              Condo for sale  \n",
       "17          2.0  1966.0              House for sale  \n",
       "18          2.0  1470.0              House for sale  \n",
       "19          1.5   858.0              Condo for sale  \n",
       "20          1.0   510.0              Condo for sale  \n",
       "21          1.0   532.0                  Contingent  \n",
       "22          7.5  7039.0              House for sale  \n",
       "23          5.0  2150.0              House for sale  \n",
       "24          2.0  2200.0  Multi-family home for sale  "
      ]
     },
     "execution_count": 13,
     "metadata": {},
     "output_type": "execute_result"
    }
   ],
   "source": [
    "df.head(25)"
   ]
  },
  {
   "cell_type": "markdown",
   "metadata": {},
   "source": [
    "## Questions"
   ]
  },
  {
   "cell_type": "code",
   "execution_count": 14,
   "metadata": {},
   "outputs": [
    {
     "data": {
      "text/html": [
       "<div>\n",
       "<style scoped>\n",
       "    .dataframe tbody tr th:only-of-type {\n",
       "        vertical-align: middle;\n",
       "    }\n",
       "\n",
       "    .dataframe tbody tr th {\n",
       "        vertical-align: top;\n",
       "    }\n",
       "\n",
       "    .dataframe thead th {\n",
       "        text-align: right;\n",
       "    }\n",
       "</style>\n",
       "<table border=\"1\" class=\"dataframe\">\n",
       "  <thead>\n",
       "    <tr style=\"text-align: right;\">\n",
       "      <th></th>\n",
       "      <th>price</th>\n",
       "      <th>address</th>\n",
       "      <th># beds</th>\n",
       "      <th># bathrooms</th>\n",
       "      <th>sqft</th>\n",
       "      <th>description</th>\n",
       "    </tr>\n",
       "  </thead>\n",
       "  <tbody>\n",
       "    <tr>\n",
       "      <th>0</th>\n",
       "      <td>229000</td>\n",
       "      <td>16 Windjammer Pl, Daly City, CA 94014</td>\n",
       "      <td>2.0</td>\n",
       "      <td>2.0</td>\n",
       "      <td>1140.0</td>\n",
       "      <td>Home for sale</td>\n",
       "    </tr>\n",
       "    <tr>\n",
       "      <th>1</th>\n",
       "      <td>929000</td>\n",
       "      <td>591 Pointe Pacific APT 3, Daly City, CA 94014</td>\n",
       "      <td>3.0</td>\n",
       "      <td>3.0</td>\n",
       "      <td>1690.0</td>\n",
       "      <td>Condo for sale</td>\n",
       "    </tr>\n",
       "    <tr>\n",
       "      <th>2</th>\n",
       "      <td>899000</td>\n",
       "      <td>230 N Lake Merced Hls APT 1D, San Francisco, C...</td>\n",
       "      <td>3.0</td>\n",
       "      <td>2.0</td>\n",
       "      <td>1474.0</td>\n",
       "      <td>Condo for sale</td>\n",
       "    </tr>\n",
       "    <tr>\n",
       "      <th>3</th>\n",
       "      <td>1225000</td>\n",
       "      <td>195 Balboa Way, San Bruno, CA 94066</td>\n",
       "      <td>4.0</td>\n",
       "      <td>3.0</td>\n",
       "      <td>1780.0</td>\n",
       "      <td>House for sale</td>\n",
       "    </tr>\n",
       "    <tr>\n",
       "      <th>4</th>\n",
       "      <td>490681</td>\n",
       "      <td>1875 Mission St APT 205, San Francisco, CA 94103</td>\n",
       "      <td>2.0</td>\n",
       "      <td>1.0</td>\n",
       "      <td>781.0</td>\n",
       "      <td>Condo for sale</td>\n",
       "    </tr>\n",
       "  </tbody>\n",
       "</table>\n",
       "</div>"
      ],
      "text/plain": [
       "     price                                            address  # beds  \\\n",
       "0   229000              16 Windjammer Pl, Daly City, CA 94014     2.0   \n",
       "1   929000      591 Pointe Pacific APT 3, Daly City, CA 94014     3.0   \n",
       "2   899000  230 N Lake Merced Hls APT 1D, San Francisco, C...     3.0   \n",
       "3  1225000                195 Balboa Way, San Bruno, CA 94066     4.0   \n",
       "4   490681   1875 Mission St APT 205, San Francisco, CA 94103     2.0   \n",
       "\n",
       "   # bathrooms    sqft     description  \n",
       "0          2.0  1140.0   Home for sale  \n",
       "1          3.0  1690.0  Condo for sale  \n",
       "2          2.0  1474.0  Condo for sale  \n",
       "3          3.0  1780.0  House for sale  \n",
       "4          1.0   781.0  Condo for sale  "
      ]
     },
     "execution_count": 14,
     "metadata": {},
     "output_type": "execute_result"
    }
   ],
   "source": [
    "df.head()"
   ]
  },
  {
   "cell_type": "markdown",
   "metadata": {},
   "source": [
    "### Q1: What are the types of houses and how many are there of each?"
   ]
  },
  {
   "cell_type": "code",
   "execution_count": 15,
   "metadata": {},
   "outputs": [
    {
     "data": {
      "text/plain": [
       "Condo for sale                266\n",
       "House for sale                242\n",
       "Contingent                    113\n",
       "Multi-family home for sale     30\n",
       "For sale by owner               9\n",
       "Townhouse for sale              8\n",
       "Home for sale                   8\n",
       "New construction                3\n",
       "Auction                         1\n",
       "Name: description, dtype: int64"
      ]
     },
     "execution_count": 15,
     "metadata": {},
     "output_type": "execute_result"
    }
   ],
   "source": [
    "df['description'].value_counts()"
   ]
  },
  {
   "cell_type": "markdown",
   "metadata": {},
   "source": [
    "#### A1: check above"
   ]
  },
  {
   "cell_type": "markdown",
   "metadata": {},
   "source": [
    "### Q2: Find the average price for each different # of beds"
   ]
  },
  {
   "cell_type": "code",
   "execution_count": 16,
   "metadata": {},
   "outputs": [
    {
     "data": {
      "text/plain": [
       "# beds\n",
       "1.0     7.015773e+05\n",
       "2.0     1.103997e+06\n",
       "3.0     1.767774e+06\n",
       "4.0     3.442963e+06\n",
       "5.0     4.292303e+06\n",
       "6.0     9.934111e+06\n",
       "7.0     6.272750e+06\n",
       "8.0     1.472167e+07\n",
       "9.0     7.797500e+06\n",
       "11.0    2.690000e+06\n",
       "Name: price, dtype: float64"
      ]
     },
     "execution_count": 16,
     "metadata": {},
     "output_type": "execute_result"
    }
   ],
   "source": [
    "df.groupby('# beds').mean()['price']"
   ]
  },
  {
   "cell_type": "markdown",
   "metadata": {},
   "source": [
    "#### A2: check above"
   ]
  },
  {
   "cell_type": "markdown",
   "metadata": {},
   "source": [
    "### Q3: Find the average price of house for each thousand sqft"
   ]
  },
  {
   "cell_type": "code",
   "execution_count": 17,
   "metadata": {},
   "outputs": [
    {
     "data": {
      "text/html": [
       "<div>\n",
       "<style scoped>\n",
       "    .dataframe tbody tr th:only-of-type {\n",
       "        vertical-align: middle;\n",
       "    }\n",
       "\n",
       "    .dataframe tbody tr th {\n",
       "        vertical-align: top;\n",
       "    }\n",
       "\n",
       "    .dataframe thead th {\n",
       "        text-align: right;\n",
       "    }\n",
       "</style>\n",
       "<table border=\"1\" class=\"dataframe\">\n",
       "  <thead>\n",
       "    <tr style=\"text-align: right;\">\n",
       "      <th></th>\n",
       "      <th>price</th>\n",
       "      <th>address</th>\n",
       "      <th># beds</th>\n",
       "      <th># bathrooms</th>\n",
       "      <th>sqft</th>\n",
       "      <th>description</th>\n",
       "      <th>Thousands</th>\n",
       "    </tr>\n",
       "  </thead>\n",
       "  <tbody>\n",
       "    <tr>\n",
       "      <th>0</th>\n",
       "      <td>229000</td>\n",
       "      <td>16 Windjammer Pl, Daly City, CA 94014</td>\n",
       "      <td>2.0</td>\n",
       "      <td>2.0</td>\n",
       "      <td>1140.0</td>\n",
       "      <td>Home for sale</td>\n",
       "      <td>1.0</td>\n",
       "    </tr>\n",
       "    <tr>\n",
       "      <th>1</th>\n",
       "      <td>929000</td>\n",
       "      <td>591 Pointe Pacific APT 3, Daly City, CA 94014</td>\n",
       "      <td>3.0</td>\n",
       "      <td>3.0</td>\n",
       "      <td>1690.0</td>\n",
       "      <td>Condo for sale</td>\n",
       "      <td>1.0</td>\n",
       "    </tr>\n",
       "    <tr>\n",
       "      <th>2</th>\n",
       "      <td>899000</td>\n",
       "      <td>230 N Lake Merced Hls APT 1D, San Francisco, C...</td>\n",
       "      <td>3.0</td>\n",
       "      <td>2.0</td>\n",
       "      <td>1474.0</td>\n",
       "      <td>Condo for sale</td>\n",
       "      <td>1.0</td>\n",
       "    </tr>\n",
       "    <tr>\n",
       "      <th>3</th>\n",
       "      <td>1225000</td>\n",
       "      <td>195 Balboa Way, San Bruno, CA 94066</td>\n",
       "      <td>4.0</td>\n",
       "      <td>3.0</td>\n",
       "      <td>1780.0</td>\n",
       "      <td>House for sale</td>\n",
       "      <td>1.0</td>\n",
       "    </tr>\n",
       "    <tr>\n",
       "      <th>4</th>\n",
       "      <td>490681</td>\n",
       "      <td>1875 Mission St APT 205, San Francisco, CA 94103</td>\n",
       "      <td>2.0</td>\n",
       "      <td>1.0</td>\n",
       "      <td>781.0</td>\n",
       "      <td>Condo for sale</td>\n",
       "      <td>0.0</td>\n",
       "    </tr>\n",
       "  </tbody>\n",
       "</table>\n",
       "</div>"
      ],
      "text/plain": [
       "     price                                            address  # beds  \\\n",
       "0   229000              16 Windjammer Pl, Daly City, CA 94014     2.0   \n",
       "1   929000      591 Pointe Pacific APT 3, Daly City, CA 94014     3.0   \n",
       "2   899000  230 N Lake Merced Hls APT 1D, San Francisco, C...     3.0   \n",
       "3  1225000                195 Balboa Way, San Bruno, CA 94066     4.0   \n",
       "4   490681   1875 Mission St APT 205, San Francisco, CA 94103     2.0   \n",
       "\n",
       "   # bathrooms    sqft     description  Thousands  \n",
       "0          2.0  1140.0   Home for sale        1.0  \n",
       "1          3.0  1690.0  Condo for sale        1.0  \n",
       "2          2.0  1474.0  Condo for sale        1.0  \n",
       "3          3.0  1780.0  House for sale        1.0  \n",
       "4          1.0   781.0  Condo for sale        0.0  "
      ]
     },
     "execution_count": 17,
     "metadata": {},
     "output_type": "execute_result"
    }
   ],
   "source": [
    "df['Thousands'] = df['sqft'] // 1000\n",
    "df.head()"
   ]
  },
  {
   "cell_type": "code",
   "execution_count": 18,
   "metadata": {},
   "outputs": [
    {
     "name": "stdout",
     "output_type": "stream",
     "text": [
      "Thousands\n",
      "0.0     7.053811e+05\n",
      "1.0     1.253184e+06\n",
      "2.0     2.068729e+06\n",
      "3.0     3.426856e+06\n",
      "4.0     6.145696e+06\n",
      "5.0     9.302052e+06\n",
      "6.0     1.144143e+07\n",
      "7.0     2.299000e+07\n",
      "9.0     8.990000e+06\n",
      "10.0    2.290000e+07\n",
      "11.0    2.166500e+07\n",
      "13.0    1.780000e+07\n",
      "15.0    2.288000e+07\n",
      "Name: price, dtype: float64\n"
     ]
    }
   ],
   "source": [
    "print(df.groupby('Thousands').mean()['price'])\n",
    "df.drop('Thousands', axis=1, inplace=True)"
   ]
  },
  {
   "cell_type": "markdown",
   "metadata": {},
   "source": [
    "#### A3: above"
   ]
  },
  {
   "cell_type": "markdown",
   "metadata": {},
   "source": [
    "### Q4: Find the average number of total rooms based off sqft"
   ]
  },
  {
   "cell_type": "code",
   "execution_count": 19,
   "metadata": {},
   "outputs": [
    {
     "data": {
      "text/html": [
       "<div>\n",
       "<style scoped>\n",
       "    .dataframe tbody tr th:only-of-type {\n",
       "        vertical-align: middle;\n",
       "    }\n",
       "\n",
       "    .dataframe tbody tr th {\n",
       "        vertical-align: top;\n",
       "    }\n",
       "\n",
       "    .dataframe thead th {\n",
       "        text-align: right;\n",
       "    }\n",
       "</style>\n",
       "<table border=\"1\" class=\"dataframe\">\n",
       "  <thead>\n",
       "    <tr style=\"text-align: right;\">\n",
       "      <th></th>\n",
       "      <th>price</th>\n",
       "      <th>address</th>\n",
       "      <th># beds</th>\n",
       "      <th># bathrooms</th>\n",
       "      <th>sqft</th>\n",
       "      <th>description</th>\n",
       "      <th>total rooms</th>\n",
       "      <th>sqft in thousands</th>\n",
       "    </tr>\n",
       "  </thead>\n",
       "  <tbody>\n",
       "    <tr>\n",
       "      <th>0</th>\n",
       "      <td>229000</td>\n",
       "      <td>16 Windjammer Pl, Daly City, CA 94014</td>\n",
       "      <td>2.0</td>\n",
       "      <td>2.0</td>\n",
       "      <td>1140.0</td>\n",
       "      <td>Home for sale</td>\n",
       "      <td>4.0</td>\n",
       "      <td>1.0</td>\n",
       "    </tr>\n",
       "    <tr>\n",
       "      <th>1</th>\n",
       "      <td>929000</td>\n",
       "      <td>591 Pointe Pacific APT 3, Daly City, CA 94014</td>\n",
       "      <td>3.0</td>\n",
       "      <td>3.0</td>\n",
       "      <td>1690.0</td>\n",
       "      <td>Condo for sale</td>\n",
       "      <td>6.0</td>\n",
       "      <td>1.0</td>\n",
       "    </tr>\n",
       "    <tr>\n",
       "      <th>2</th>\n",
       "      <td>899000</td>\n",
       "      <td>230 N Lake Merced Hls APT 1D, San Francisco, C...</td>\n",
       "      <td>3.0</td>\n",
       "      <td>2.0</td>\n",
       "      <td>1474.0</td>\n",
       "      <td>Condo for sale</td>\n",
       "      <td>5.0</td>\n",
       "      <td>1.0</td>\n",
       "    </tr>\n",
       "    <tr>\n",
       "      <th>3</th>\n",
       "      <td>1225000</td>\n",
       "      <td>195 Balboa Way, San Bruno, CA 94066</td>\n",
       "      <td>4.0</td>\n",
       "      <td>3.0</td>\n",
       "      <td>1780.0</td>\n",
       "      <td>House for sale</td>\n",
       "      <td>7.0</td>\n",
       "      <td>1.0</td>\n",
       "    </tr>\n",
       "    <tr>\n",
       "      <th>4</th>\n",
       "      <td>490681</td>\n",
       "      <td>1875 Mission St APT 205, San Francisco, CA 94103</td>\n",
       "      <td>2.0</td>\n",
       "      <td>1.0</td>\n",
       "      <td>781.0</td>\n",
       "      <td>Condo for sale</td>\n",
       "      <td>3.0</td>\n",
       "      <td>0.0</td>\n",
       "    </tr>\n",
       "  </tbody>\n",
       "</table>\n",
       "</div>"
      ],
      "text/plain": [
       "     price                                            address  # beds  \\\n",
       "0   229000              16 Windjammer Pl, Daly City, CA 94014     2.0   \n",
       "1   929000      591 Pointe Pacific APT 3, Daly City, CA 94014     3.0   \n",
       "2   899000  230 N Lake Merced Hls APT 1D, San Francisco, C...     3.0   \n",
       "3  1225000                195 Balboa Way, San Bruno, CA 94066     4.0   \n",
       "4   490681   1875 Mission St APT 205, San Francisco, CA 94103     2.0   \n",
       "\n",
       "   # bathrooms    sqft     description  total rooms  sqft in thousands  \n",
       "0          2.0  1140.0   Home for sale          4.0                1.0  \n",
       "1          3.0  1690.0  Condo for sale          6.0                1.0  \n",
       "2          2.0  1474.0  Condo for sale          5.0                1.0  \n",
       "3          3.0  1780.0  House for sale          7.0                1.0  \n",
       "4          1.0   781.0  Condo for sale          3.0                0.0  "
      ]
     },
     "execution_count": 19,
     "metadata": {},
     "output_type": "execute_result"
    }
   ],
   "source": [
    "df['total rooms'] = df['# beds'] + df['# bathrooms']\n",
    "df['sqft in thousands'] = df['sqft'] // 1000\n",
    "df.head()"
   ]
  },
  {
   "cell_type": "code",
   "execution_count": 20,
   "metadata": {},
   "outputs": [
    {
     "data": {
      "text/plain": [
       "sqft in thousands\n",
       "0.0      2.670000\n",
       "1.0      4.593553\n",
       "2.0      6.766055\n",
       "3.0      8.220930\n",
       "4.0      8.913043\n",
       "5.0     10.500000\n",
       "6.0     10.142857\n",
       "7.0     12.900000\n",
       "9.0     16.000000\n",
       "10.0    13.750000\n",
       "11.0    16.666667\n",
       "13.0    18.000000\n",
       "15.0    16.000000\n",
       "Name: total rooms, dtype: float64"
      ]
     },
     "execution_count": 20,
     "metadata": {},
     "output_type": "execute_result"
    }
   ],
   "source": [
    "df.groupby('sqft in thousands').mean()['total rooms']"
   ]
  },
  {
   "cell_type": "markdown",
   "metadata": {},
   "source": [
    "#### A4: check above"
   ]
  },
  {
   "cell_type": "markdown",
   "metadata": {},
   "source": [
    "### Q5a: Which cities have the most houses and the least? \n",
    "### Q5b: And how many different cities are there?"
   ]
  },
  {
   "cell_type": "code",
   "execution_count": 61,
   "metadata": {},
   "outputs": [
    {
     "data": {
      "text/html": [
       "<div>\n",
       "<style scoped>\n",
       "    .dataframe tbody tr th:only-of-type {\n",
       "        vertical-align: middle;\n",
       "    }\n",
       "\n",
       "    .dataframe tbody tr th {\n",
       "        vertical-align: top;\n",
       "    }\n",
       "\n",
       "    .dataframe thead th {\n",
       "        text-align: right;\n",
       "    }\n",
       "</style>\n",
       "<table border=\"1\" class=\"dataframe\">\n",
       "  <thead>\n",
       "    <tr style=\"text-align: right;\">\n",
       "      <th></th>\n",
       "      <th>price</th>\n",
       "      <th>address</th>\n",
       "      <th># beds</th>\n",
       "      <th># bathrooms</th>\n",
       "      <th>sqft</th>\n",
       "      <th>description</th>\n",
       "      <th>total rooms</th>\n",
       "      <th>sqft in thousands</th>\n",
       "      <th>city</th>\n",
       "    </tr>\n",
       "  </thead>\n",
       "  <tbody>\n",
       "    <tr>\n",
       "      <th>0</th>\n",
       "      <td>229000</td>\n",
       "      <td>16 Windjammer Pl, Daly City, CA 94014</td>\n",
       "      <td>2.0</td>\n",
       "      <td>2.0</td>\n",
       "      <td>1140.0</td>\n",
       "      <td>Home for sale</td>\n",
       "      <td>4.0</td>\n",
       "      <td>1.0</td>\n",
       "      <td>Daly City</td>\n",
       "    </tr>\n",
       "    <tr>\n",
       "      <th>1</th>\n",
       "      <td>929000</td>\n",
       "      <td>591 Pointe Pacific APT 3, Daly City, CA 94014</td>\n",
       "      <td>3.0</td>\n",
       "      <td>3.0</td>\n",
       "      <td>1690.0</td>\n",
       "      <td>Condo for sale</td>\n",
       "      <td>6.0</td>\n",
       "      <td>1.0</td>\n",
       "      <td>Daly City</td>\n",
       "    </tr>\n",
       "    <tr>\n",
       "      <th>2</th>\n",
       "      <td>899000</td>\n",
       "      <td>230 N Lake Merced Hls APT 1D, San Francisco, C...</td>\n",
       "      <td>3.0</td>\n",
       "      <td>2.0</td>\n",
       "      <td>1474.0</td>\n",
       "      <td>Condo for sale</td>\n",
       "      <td>5.0</td>\n",
       "      <td>1.0</td>\n",
       "      <td>San Francisco</td>\n",
       "    </tr>\n",
       "    <tr>\n",
       "      <th>3</th>\n",
       "      <td>1225000</td>\n",
       "      <td>195 Balboa Way, San Bruno, CA 94066</td>\n",
       "      <td>4.0</td>\n",
       "      <td>3.0</td>\n",
       "      <td>1780.0</td>\n",
       "      <td>House for sale</td>\n",
       "      <td>7.0</td>\n",
       "      <td>1.0</td>\n",
       "      <td>San Bruno</td>\n",
       "    </tr>\n",
       "    <tr>\n",
       "      <th>4</th>\n",
       "      <td>490681</td>\n",
       "      <td>1875 Mission St APT 205, San Francisco, CA 94103</td>\n",
       "      <td>2.0</td>\n",
       "      <td>1.0</td>\n",
       "      <td>781.0</td>\n",
       "      <td>Condo for sale</td>\n",
       "      <td>3.0</td>\n",
       "      <td>0.0</td>\n",
       "      <td>San Francisco</td>\n",
       "    </tr>\n",
       "  </tbody>\n",
       "</table>\n",
       "</div>"
      ],
      "text/plain": [
       "     price                                            address  # beds  \\\n",
       "0   229000              16 Windjammer Pl, Daly City, CA 94014     2.0   \n",
       "1   929000      591 Pointe Pacific APT 3, Daly City, CA 94014     3.0   \n",
       "2   899000  230 N Lake Merced Hls APT 1D, San Francisco, C...     3.0   \n",
       "3  1225000                195 Balboa Way, San Bruno, CA 94066     4.0   \n",
       "4   490681   1875 Mission St APT 205, San Francisco, CA 94103     2.0   \n",
       "\n",
       "   # bathrooms    sqft     description  total rooms  sqft in thousands  \\\n",
       "0          2.0  1140.0   Home for sale          4.0                1.0   \n",
       "1          3.0  1690.0  Condo for sale          6.0                1.0   \n",
       "2          2.0  1474.0  Condo for sale          5.0                1.0   \n",
       "3          3.0  1780.0  House for sale          7.0                1.0   \n",
       "4          1.0   781.0  Condo for sale          3.0                0.0   \n",
       "\n",
       "             city  \n",
       "0       Daly City  \n",
       "1       Daly City  \n",
       "2   San Francisco  \n",
       "3       San Bruno  \n",
       "4   San Francisco  "
      ]
     },
     "execution_count": 61,
     "metadata": {},
     "output_type": "execute_result"
    }
   ],
   "source": [
    "df['city'] = df['address'].str.split(\",\").str[1]\n",
    "df.head()"
   ]
  },
  {
   "cell_type": "code",
   "execution_count": 63,
   "metadata": {},
   "outputs": [
    {
     "data": {
      "text/plain": [
       " San Francisco    505\n",
       " Daly City         33\n",
       "Name: city, dtype: int64"
      ]
     },
     "execution_count": 63,
     "metadata": {},
     "output_type": "execute_result"
    }
   ],
   "source": [
    "df['city'].value_counts().head(2)"
   ]
  },
  {
   "cell_type": "code",
   "execution_count": 64,
   "metadata": {},
   "outputs": [
    {
     "data": {
      "text/plain": [
       " Belvedere    2\n",
       " 305          1\n",
       "Name: city, dtype: int64"
      ]
     },
     "execution_count": 64,
     "metadata": {},
     "output_type": "execute_result"
    }
   ],
   "source": [
    "df['city'].value_counts().tail(2)"
   ]
  },
  {
   "cell_type": "markdown",
   "metadata": {},
   "source": [
    "#### A5a: San Francisco has the most homes. Belvedere has least # of homes."
   ]
  },
  {
   "cell_type": "code",
   "execution_count": 66,
   "metadata": {},
   "outputs": [
    {
     "data": {
      "text/plain": [
       "28"
      ]
     },
     "execution_count": 66,
     "metadata": {},
     "output_type": "execute_result"
    }
   ],
   "source": [
    "df['city'].nunique()"
   ]
  },
  {
   "cell_type": "markdown",
   "metadata": {},
   "source": [
    "#### A5b: There are 28 cities in this dataset"
   ]
  },
  {
   "cell_type": "markdown",
   "metadata": {},
   "source": [
    "### Q6a: Average cost per city\n",
    "### Q6b: Sum of all houses in each city\n",
    "### Q6c: What type of home is typically most expensive"
   ]
  },
  {
   "cell_type": "code",
   "execution_count": 70,
   "metadata": {},
   "outputs": [
    {
     "data": {
      "text/plain": [
       "city\n",
       " 305                  5.990000e+05\n",
       " Belvedere            7.195000e+06\n",
       " Belvedere Tiburon    8.356222e+06\n",
       "Name: price, dtype: float64"
      ]
     },
     "execution_count": 70,
     "metadata": {},
     "output_type": "execute_result"
    }
   ],
   "source": [
    "df.groupby('city').mean()['price'].head(3)"
   ]
  },
  {
   "cell_type": "markdown",
   "metadata": {},
   "source": [
    "#### Q6a: check above"
   ]
  },
  {
   "cell_type": "code",
   "execution_count": 71,
   "metadata": {},
   "outputs": [
    {
     "data": {
      "text/plain": [
       "city\n",
       " 305                        599000\n",
       " Belvedere                14390000\n",
       " Belvedere Tiburon        75206000\n",
       " Brisbane                  4400000\n",
       " Burlingame               32285000\n",
       " Corte Madera              6853000\n",
       " Daly City                31701098\n",
       " El Granada                5444000\n",
       " Fairfax                  11162000\n",
       " Greenbrae                 1171000\n",
       " Half Moon Bay            12437000\n",
       " Hillsborough             62061998\n",
       " Kentfield                 6473000\n",
       " Larkspur                 10079900\n",
       " Mill Valley              16482999\n",
       " Millbrae                  9898841\n",
       " Montara                   2499000\n",
       " Moss Beach               15689000\n",
       " Pacifica                 23750000\n",
       " Ross                     57300000\n",
       " San Anselmo              14449800\n",
       " San Bruno                18250776\n",
       " San Francisco          1043204064\n",
       " San Mateo                21221464\n",
       " San Rafael               13874000\n",
       " Sausalito                42585888\n",
       " South San Francisco       7296039\n",
       " Tiburon                  54402995\n",
       "Name: price, dtype: int64"
      ]
     },
     "execution_count": 71,
     "metadata": {},
     "output_type": "execute_result"
    }
   ],
   "source": [
    "df.groupby('city').sum()['price']"
   ]
  },
  {
   "cell_type": "markdown",
   "metadata": {},
   "source": [
    "#### Q6b: check above"
   ]
  },
  {
   "cell_type": "code",
   "execution_count": 74,
   "metadata": {},
   "outputs": [
    {
     "data": {
      "text/plain": [
       "description\n",
       "Auction                       1.109372e+06\n",
       "Condo for sale                1.310877e+06\n",
       "Contingent                    1.404996e+06\n",
       "For sale by owner             1.376741e+06\n",
       "Home for sale                 6.528750e+05\n",
       "House for sale                3.392131e+06\n",
       "Multi-family home for sale    1.964632e+06\n",
       "New construction              1.198667e+06\n",
       "Townhouse for sale            1.028711e+06\n",
       "Name: price, dtype: float64"
      ]
     },
     "execution_count": 74,
     "metadata": {},
     "output_type": "execute_result"
    }
   ],
   "source": [
    "df.groupby('description').mean()['price']"
   ]
  },
  {
   "cell_type": "markdown",
   "metadata": {},
   "source": [
    "#### Q6c: 'House for sale' cost more on average compared to other houses with different descriptions"
   ]
  }
 ],
 "metadata": {
  "kernelspec": {
   "display_name": "Python 3",
   "language": "python",
   "name": "python3"
  },
  "language_info": {
   "codemirror_mode": {
    "name": "ipython",
    "version": 3
   },
   "file_extension": ".py",
   "mimetype": "text/x-python",
   "name": "python",
   "nbconvert_exporter": "python",
   "pygments_lexer": "ipython3",
   "version": "3.8.3"
  }
 },
 "nbformat": 4,
 "nbformat_minor": 4
}
